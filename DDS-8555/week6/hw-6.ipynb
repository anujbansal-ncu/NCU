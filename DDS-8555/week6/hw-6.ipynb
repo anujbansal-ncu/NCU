{
 "cells": [
  {
   "cell_type": "markdown",
   "id": "cb4a8b66",
   "metadata": {},
   "source": [
    "Question #1  \n",
    "Region A1: Temperature < 20, Humidity < 40\n",
    "Region A2a: Temperature < 20, Humidity between 40 and 70\n",
    "Region A2b: Temperature < 20, Humidity ≥ 70\n",
    "Region B1a: Temperature between 20 and 30, Humidity between 40 and 60\n",
    "Region B1b: Temperature ≥ 30, Humidity between 40 and 60\n",
    "Region B2: Temperature ≥ 20, Humidity ≥ 60\n",
    "\n",
    "![alt text](image.png)"
   ]
  },
  {
   "cell_type": "code",
   "execution_count": 15,
   "id": "938aeab7",
   "metadata": {},
   "outputs": [
    {
     "name": "stdout",
     "output_type": "stream",
     "text": [
      "Logistic Regression Accuracy: 0.9649\n",
      "Bagging Accuracy: 0.9591\n",
      "Random Forest Accuracy: 0.9708\n",
      "Boosting Accuracy: 0.9591\n",
      "BART Accuracy: 0.9825\n",
      "\n",
      "Best performing model: BART with accuracy 0.9825\n"
     ]
    }
   ],
   "source": [
    "from sklearn.datasets import load_breast_cancer\n",
    "from sklearn.model_selection import train_test_split\n",
    "from sklearn.ensemble import RandomForestClassifier, GradientBoostingClassifier, BaggingClassifier\n",
    "from sklearn.linear_model import LogisticRegression\n",
    "from sklearn.metrics import accuracy_score\n",
    "from sklearn.tree import DecisionTreeClassifier\n",
    "import warnings\n",
    "\n",
    "# Suppress warnings for cleaner output\n",
    "warnings.filterwarnings(\"ignore\")\n",
    "\n",
    "# Load the Breast Cancer dataset\n",
    "data = load_breast_cancer()\n",
    "X = data.data\n",
    "y = data.target\n",
    "\n",
    "# Split into training and test sets\n",
    "X_train, X_test, y_train, y_test = train_test_split(X, y, test_size=0.3, random_state=42)\n",
    "\n",
    "# Initialize models\n",
    "models = {\n",
    "    \"Logistic Regression\": LogisticRegression(max_iter=1000),\n",
    "    \"Bagging\": BaggingClassifier(estimator=DecisionTreeClassifier(), n_estimators=100, random_state=42),\n",
    "    \"Random Forest\": RandomForestClassifier(n_estimators=100, random_state=42),\n",
    "    \"Boosting\": GradientBoostingClassifier(n_estimators=100, random_state=42)\n",
    "}\n",
    "\n",
    "# Train and evaluate each model\n",
    "results = {}\n",
    "for name, model in models.items():\n",
    "    model.fit(X_train, y_train)\n",
    "    y_pred = model.predict(X_test)\n",
    "    acc = accuracy_score(y_test, y_pred)\n",
    "    results[name] = acc\n",
    "\n",
    "# Try importing BART (Bayesian Additive Regression Trees)\n",
    "try:\n",
    "    from ISLP.bart import BART\n",
    "    bart_model = BART()\n",
    "    bart_model.fit(X_train, y_train)\n",
    "    y_pred_bart = bart_model.predict(X_test)\n",
    "    # Convert continuous predictions to binary using threshold 0.5\n",
    "    y_pred_bart_binary = (y_pred_bart > 0.5).astype(int)\n",
    "    acc_bart = accuracy_score(y_test, y_pred_bart_binary)\n",
    "    results[\"BART\"] = acc_bart\n",
    "except ImportError:\n",
    "    print(\"BART model is not available in this environment. Skipping BART.\")\n",
    "\n",
    "# Print accuracy results\n",
    "for model_name, accuracy in results.items():\n",
    "    print(f\"{model_name} Accuracy: {accuracy:.4f}\")\n",
    "\n",
    "# Identify the best performing model\n",
    "best_model = max(results, key=results.get)\n",
    "print(f\"\\nBest performing model: {best_model} with accuracy {results[best_model]:.4f}\")\n"
   ]
  }
 ],
 "metadata": {
  "kernelspec": {
   "display_name": "Python 3",
   "language": "python",
   "name": "python3"
  },
  "language_info": {
   "codemirror_mode": {
    "name": "ipython",
    "version": 3
   },
   "file_extension": ".py",
   "mimetype": "text/x-python",
   "name": "python",
   "nbconvert_exporter": "python",
   "pygments_lexer": "ipython3",
   "version": "3.13.7"
  }
 },
 "nbformat": 4,
 "nbformat_minor": 5
}
