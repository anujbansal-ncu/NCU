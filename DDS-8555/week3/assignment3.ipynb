{
 "cells": [
  {
   "cell_type": "markdown",
   "id": "82b33014-988a-455b-82e5-46e2f4b6c2d4",
   "metadata": {},
   "source": [
    "Question #1\n",
    "1.a: All three approaches are expected to give similar if not identical results in practice.\n",
    "1.b: We cannot find which model will perform best on the test RSS, and will depend on the tradeoff between fitting to the data and overfitting.\n",
    "1.c.i: True. Forward stepwise selection retains all features identified in previous models as k is increased.\n",
    "1.c.ii: True. Backward stepwise selection removes features one by one as k is decreased.\n",
    "1.c.iii: False. Forward and backward stepwise selection can identify different combinations of variables due to differing algorithms.\n",
    "1.c.iv: False. Forward and backward stepwise selection can identify different combinations of variables due to differing algorithms.\n",
    "1.c.v: False. Best subset selection can identify different combinations of variables for each k by considering all possible models.\n"
   ]
  },
  {
   "cell_type": "code",
   "execution_count": 2,
   "id": "68755931",
   "metadata": {},
   "outputs": [],
   "source": [
    "%matplotlib inline\n",
    "\n",
    "import pandas as pd\n",
    "import numpy as np\n",
    "import matplotlib.pyplot as plt\n",
    "import seaborn as sns\n",
    "import statsmodels.api as sm\n",
    "from sklearn.linear_model import LinearRegression, Lasso, LassoCV, Ridge, RidgeCV \n",
    "from sklearn.preprocessing import PolynomialFeatures, scale, StandardScaler\n",
    "from sklearn.model_selection import train_test_split, cross_val_score\n",
    "from sklearn.cross_decomposition import PLSRegression\n",
    "from sklearn.metrics import mean_squared_error\n",
    "from sklearn.decomposition import PCA\n",
    "from itertools import combinations\n",
    "from tqdm import tqdm"
   ]
  },
  {
   "cell_type": "markdown",
   "id": "cc9e1523",
   "metadata": {},
   "source": [
    "Question #8"
   ]
  },
  {
   "cell_type": "code",
   "execution_count": 3,
   "id": "e4e09150",
   "metadata": {},
   "outputs": [],
   "source": [
    "np.random.seed(5)\n",
    "# predictor X vector\n",
    "x = np.random.randn(100, 1)\n",
    "# noise vector\n",
    "eps = np.random.randn(100, 1)"
   ]
  },
  {
   "cell_type": "code",
   "execution_count": 4,
   "id": "7d59d47c",
   "metadata": {},
   "outputs": [],
   "source": [
    "betas = [5, -10, 3, 14]\n",
    "\n",
    "y = betas[0] + betas[1] * x + betas[2] * (x**2) + betas[3] * (x**3) + eps"
   ]
  },
  {
   "cell_type": "code",
   "execution_count": 5,
   "id": "02724058",
   "metadata": {},
   "outputs": [
    {
     "data": {
      "text/html": [
       "<div>\n",
       "<style scoped>\n",
       "    .dataframe tbody tr th:only-of-type {\n",
       "        vertical-align: middle;\n",
       "    }\n",
       "\n",
       "    .dataframe tbody tr th {\n",
       "        vertical-align: top;\n",
       "    }\n",
       "\n",
       "    .dataframe thead th {\n",
       "        text-align: right;\n",
       "    }\n",
       "</style>\n",
       "<table border=\"1\" class=\"dataframe\">\n",
       "  <thead>\n",
       "    <tr style=\"text-align: right;\">\n",
       "      <th></th>\n",
       "      <th>x1</th>\n",
       "      <th>x2</th>\n",
       "      <th>x3</th>\n",
       "      <th>x4</th>\n",
       "      <th>x5</th>\n",
       "      <th>x6</th>\n",
       "      <th>x7</th>\n",
       "      <th>x8</th>\n",
       "      <th>x9</th>\n",
       "      <th>x10</th>\n",
       "      <th>y</th>\n",
       "    </tr>\n",
       "  </thead>\n",
       "  <tbody>\n",
       "    <tr>\n",
       "      <th>0</th>\n",
       "      <td>0.441227</td>\n",
       "      <td>0.194682</td>\n",
       "      <td>0.085899</td>\n",
       "      <td>0.037901</td>\n",
       "      <td>0.016723</td>\n",
       "      <td>0.007379</td>\n",
       "      <td>3.255652e-03</td>\n",
       "      <td>1.436483e-03</td>\n",
       "      <td>6.338158e-04</td>\n",
       "      <td>2.796569e-04</td>\n",
       "      <td>3.166778</td>\n",
       "    </tr>\n",
       "    <tr>\n",
       "      <th>1</th>\n",
       "      <td>-0.330870</td>\n",
       "      <td>0.109475</td>\n",
       "      <td>-0.036222</td>\n",
       "      <td>0.011985</td>\n",
       "      <td>-0.003965</td>\n",
       "      <td>0.001312</td>\n",
       "      <td>-4.341133e-04</td>\n",
       "      <td>1.436351e-04</td>\n",
       "      <td>-4.752458e-05</td>\n",
       "      <td>1.572447e-05</td>\n",
       "      <td>8.300783</td>\n",
       "    </tr>\n",
       "    <tr>\n",
       "      <th>2</th>\n",
       "      <td>2.430771</td>\n",
       "      <td>5.908649</td>\n",
       "      <td>14.362573</td>\n",
       "      <td>34.912128</td>\n",
       "      <td>84.863394</td>\n",
       "      <td>206.283494</td>\n",
       "      <td>5.014280e+02</td>\n",
       "      <td>1.218857e+03</td>\n",
       "      <td>2.962762e+03</td>\n",
       "      <td>7.201796e+03</td>\n",
       "      <td>197.740511</td>\n",
       "    </tr>\n",
       "    <tr>\n",
       "      <th>3</th>\n",
       "      <td>-0.252092</td>\n",
       "      <td>0.063550</td>\n",
       "      <td>-0.016021</td>\n",
       "      <td>0.004039</td>\n",
       "      <td>-0.001018</td>\n",
       "      <td>0.000257</td>\n",
       "      <td>-6.470160e-05</td>\n",
       "      <td>1.631076e-05</td>\n",
       "      <td>-4.111815e-06</td>\n",
       "      <td>1.036556e-06</td>\n",
       "      <td>8.117581</td>\n",
       "    </tr>\n",
       "    <tr>\n",
       "      <th>4</th>\n",
       "      <td>0.109610</td>\n",
       "      <td>0.012014</td>\n",
       "      <td>0.001317</td>\n",
       "      <td>0.000144</td>\n",
       "      <td>0.000016</td>\n",
       "      <td>0.000002</td>\n",
       "      <td>1.900846e-07</td>\n",
       "      <td>2.083514e-08</td>\n",
       "      <td>2.283736e-09</td>\n",
       "      <td>2.503200e-10</td>\n",
       "      <td>4.456710</td>\n",
       "    </tr>\n",
       "  </tbody>\n",
       "</table>\n",
       "</div>"
      ],
      "text/plain": [
       "         x1        x2         x3         x4         x5          x6  \\\n",
       "0  0.441227  0.194682   0.085899   0.037901   0.016723    0.007379   \n",
       "1 -0.330870  0.109475  -0.036222   0.011985  -0.003965    0.001312   \n",
       "2  2.430771  5.908649  14.362573  34.912128  84.863394  206.283494   \n",
       "3 -0.252092  0.063550  -0.016021   0.004039  -0.001018    0.000257   \n",
       "4  0.109610  0.012014   0.001317   0.000144   0.000016    0.000002   \n",
       "\n",
       "             x7            x8            x9           x10           y  \n",
       "0  3.255652e-03  1.436483e-03  6.338158e-04  2.796569e-04    3.166778  \n",
       "1 -4.341133e-04  1.436351e-04 -4.752458e-05  1.572447e-05    8.300783  \n",
       "2  5.014280e+02  1.218857e+03  2.962762e+03  7.201796e+03  197.740511  \n",
       "3 -6.470160e-05  1.631076e-05 -4.111815e-06  1.036556e-06    8.117581  \n",
       "4  1.900846e-07  2.083514e-08  2.283736e-09  2.503200e-10    4.456710  "
      ]
     },
     "execution_count": 5,
     "metadata": {},
     "output_type": "execute_result"
    }
   ],
   "source": [
    "poly = PolynomialFeatures(degree=10, include_bias=False)\n",
    "X_poly = poly.fit_transform(x)\n",
    "\n",
    "cols = ['x'+str(i) for i in range(1, 11)] + ['y']\n",
    "X_df = pd.DataFrame(np.concatenate((X_poly,y), axis=1), columns=cols)\n",
    "X_df.head()"
   ]
  },
  {
   "cell_type": "code",
   "execution_count": 8,
   "id": "daf7e2e4",
   "metadata": {},
   "outputs": [],
   "source": [
    "def process_linear_model(subset, data, response):\n",
    "    x_train = sm.add_constant(data[subset])\n",
    "    model = sm.OLS(response, x_train).fit()\n",
    "    train_RSS = model.ssr\n",
    "    return (model, train_RSS)\n",
    "\n",
    "def find_best_subset(data, response, max_features, operation):\n",
    "    best_sub_list = []\n",
    "    best_model = []\n",
    "    num_of_features = []\n",
    "    \n",
    "    for k in tqdm(range(1, max_features+1)):\n",
    "        best_rss = np.inf\n",
    "        best_kth_model = None\n",
    "        \n",
    "        subsets = combinations(data.columns, k)\n",
    "        \n",
    "        for subset in subsets:\n",
    "            result = process_linear_model(list(subset), data, response)\n",
    "            if result[1] < best_rss:\n",
    "                best_rss = result[1]\n",
    "                best_subset = list(subset)\n",
    "                best_kth_model = result[0]\n",
    "                \n",
    "        num_of_features.append(k)\n",
    "        best_sub_list.append(best_subset)\n",
    "        best_model.append(best_kth_model)\n",
    "            \n",
    "    results = pd.DataFrame({'sub': best_sub_list, 'model': best_model})\n",
    "    results.to_pickle(f'./data/{operation}.pkl')\n",
    "    return results"
   ]
  },
  {
   "cell_type": "code",
   "execution_count": 11,
   "id": "41ebe763",
   "metadata": {},
   "outputs": [
    {
     "name": "stderr",
     "output_type": "stream",
     "text": [
      "100%|██████████| 10/10 [00:01<00:00,  7.11it/s]\n"
     ]
    }
   ],
   "source": [
    "X = X_df.drop(['y'], axis=1)\n",
    "y = X_df.y\n",
    "\n",
    "bestsub_results = find_best_subset(X, y, 10, 'poly_bestsub')"
   ]
  },
  {
   "cell_type": "code",
   "execution_count": 12,
   "id": "435d27c2",
   "metadata": {},
   "outputs": [
    {
     "data": {
      "text/html": [
       "<div>\n",
       "<style scoped>\n",
       "    .dataframe tbody tr th:only-of-type {\n",
       "        vertical-align: middle;\n",
       "    }\n",
       "\n",
       "    .dataframe tbody tr th {\n",
       "        vertical-align: top;\n",
       "    }\n",
       "\n",
       "    .dataframe thead th {\n",
       "        text-align: right;\n",
       "    }\n",
       "</style>\n",
       "<table border=\"1\" class=\"dataframe\">\n",
       "  <thead>\n",
       "    <tr style=\"text-align: right;\">\n",
       "      <th></th>\n",
       "      <th>sub</th>\n",
       "      <th>model</th>\n",
       "    </tr>\n",
       "  </thead>\n",
       "  <tbody>\n",
       "    <tr>\n",
       "      <th>0</th>\n",
       "      <td>[x3]</td>\n",
       "      <td>&lt;statsmodels.regression.linear_model.Regressio...</td>\n",
       "    </tr>\n",
       "    <tr>\n",
       "      <th>1</th>\n",
       "      <td>[x5, x7]</td>\n",
       "      <td>&lt;statsmodels.regression.linear_model.Regressio...</td>\n",
       "    </tr>\n",
       "    <tr>\n",
       "      <th>2</th>\n",
       "      <td>[x1, x2, x3]</td>\n",
       "      <td>&lt;statsmodels.regression.linear_model.Regressio...</td>\n",
       "    </tr>\n",
       "    <tr>\n",
       "      <th>3</th>\n",
       "      <td>[x1, x2, x3, x5]</td>\n",
       "      <td>&lt;statsmodels.regression.linear_model.Regressio...</td>\n",
       "    </tr>\n",
       "    <tr>\n",
       "      <th>4</th>\n",
       "      <td>[x1, x2, x3, x7, x10]</td>\n",
       "      <td>&lt;statsmodels.regression.linear_model.Regressio...</td>\n",
       "    </tr>\n",
       "    <tr>\n",
       "      <th>5</th>\n",
       "      <td>[x1, x2, x3, x5, x7, x9]</td>\n",
       "      <td>&lt;statsmodels.regression.linear_model.Regressio...</td>\n",
       "    </tr>\n",
       "    <tr>\n",
       "      <th>6</th>\n",
       "      <td>[x1, x2, x3, x5, x6, x7, x9]</td>\n",
       "      <td>&lt;statsmodels.regression.linear_model.Regressio...</td>\n",
       "    </tr>\n",
       "    <tr>\n",
       "      <th>7</th>\n",
       "      <td>[x1, x2, x3, x5, x7, x8, x9, x10]</td>\n",
       "      <td>&lt;statsmodels.regression.linear_model.Regressio...</td>\n",
       "    </tr>\n",
       "    <tr>\n",
       "      <th>8</th>\n",
       "      <td>[x1, x2, x3, x5, x6, x7, x8, x9, x10]</td>\n",
       "      <td>&lt;statsmodels.regression.linear_model.Regressio...</td>\n",
       "    </tr>\n",
       "    <tr>\n",
       "      <th>9</th>\n",
       "      <td>[x1, x2, x3, x4, x5, x6, x7, x8, x9, x10]</td>\n",
       "      <td>&lt;statsmodels.regression.linear_model.Regressio...</td>\n",
       "    </tr>\n",
       "  </tbody>\n",
       "</table>\n",
       "</div>"
      ],
      "text/plain": [
       "                                         sub  \\\n",
       "0                                       [x3]   \n",
       "1                                   [x5, x7]   \n",
       "2                               [x1, x2, x3]   \n",
       "3                           [x1, x2, x3, x5]   \n",
       "4                      [x1, x2, x3, x7, x10]   \n",
       "5                   [x1, x2, x3, x5, x7, x9]   \n",
       "6               [x1, x2, x3, x5, x6, x7, x9]   \n",
       "7          [x1, x2, x3, x5, x7, x8, x9, x10]   \n",
       "8      [x1, x2, x3, x5, x6, x7, x8, x9, x10]   \n",
       "9  [x1, x2, x3, x4, x5, x6, x7, x8, x9, x10]   \n",
       "\n",
       "                                               model  \n",
       "0  <statsmodels.regression.linear_model.Regressio...  \n",
       "1  <statsmodels.regression.linear_model.Regressio...  \n",
       "2  <statsmodels.regression.linear_model.Regressio...  \n",
       "3  <statsmodels.regression.linear_model.Regressio...  \n",
       "4  <statsmodels.regression.linear_model.Regressio...  \n",
       "5  <statsmodels.regression.linear_model.Regressio...  \n",
       "6  <statsmodels.regression.linear_model.Regressio...  \n",
       "7  <statsmodels.regression.linear_model.Regressio...  \n",
       "8  <statsmodels.regression.linear_model.Regressio...  \n",
       "9  <statsmodels.regression.linear_model.Regressio...  "
      ]
     },
     "execution_count": 12,
     "metadata": {},
     "output_type": "execute_result"
    }
   ],
   "source": [
    "# best subset selection results\n",
    "bestsub_results"
   ]
  },
  {
   "cell_type": "code",
   "execution_count": 13,
   "id": "9b8e3166",
   "metadata": {},
   "outputs": [],
   "source": [
    "aic = [bestsub_results.model[i].aic for i in range(0, len(bestsub_results.model))]\n",
    "bic = [bestsub_results.model[i].bic for i in range(0, len(bestsub_results.model))]\n",
    "r2_adj = [bestsub_results.model[i].rsquared_adj for i in range(0, len(bestsub_results.model))]\n",
    "rss = [bestsub_results.model[i].ssr for i in range(0, len(bestsub_results.model))]"
   ]
  },
  {
   "cell_type": "code",
   "execution_count": 14,
   "id": "8145c8f7",
   "metadata": {},
   "outputs": [
    {
     "data": {
      "text/plain": [
       "[<matplotlib.axis.XTick at 0x115aac202d0>,\n",
       " <matplotlib.axis.XTick at 0x115aac6f890>,\n",
       " <matplotlib.axis.XTick at 0x115aac7c050>,\n",
       " <matplotlib.axis.XTick at 0x115aac7c7d0>,\n",
       " <matplotlib.axis.XTick at 0x115aac7cf50>,\n",
       " <matplotlib.axis.XTick at 0x115aac7d6d0>,\n",
       " <matplotlib.axis.XTick at 0x115aac7de50>,\n",
       " <matplotlib.axis.XTick at 0x115aac7e5d0>,\n",
       " <matplotlib.axis.XTick at 0x115aac7ed50>,\n",
       " <matplotlib.axis.XTick at 0x115aac7f4d0>]"
      ]
     },
     "execution_count": 14,
     "metadata": {},
     "output_type": "execute_result"
    },
    {
     "data": {
      "image/png": "[encoded data removed]",
      "text/plain": [
       "<Figure size 1000x1000 with 4 Axes>"
      ]
     },
     "metadata": {},
     "output_type": "display_data"
    }
   ],
   "source": [
    "fig, axes = plt.subplots(2, 2, sharex=False, sharey=False)\n",
    "fig.set_figheight(10)\n",
    "fig.set_figwidth(10)\n",
    "fig.supxlabel('Num of Features')\n",
    "\n",
    "axes[0, 0].plot(rss)\n",
    "axes[0, 0].set_title('RSS')\n",
    "axes[0, 0].set_xticks(np.arange(0, 10, 1))\n",
    "\n",
    "axes[0, 1].plot(r2_adj, markevery=[np.argmax(r2_adj)], marker='D')\n",
    "axes[0, 1].set_title('Adj R Squared')\n",
    "axes[0, 1].set_xticks(np.arange(0, 10, 1))\n",
    "\n",
    "axes[1, 0].plot(aic, markevery=[np.argmin(aic)], marker='D')\n",
    "axes[1, 0].set_title('AIC')\n",
    "axes[1, 0].set_xticks(np.arange(0, 10, 1))\n",
    "\n",
    "axes[1, 1].plot(bic, markevery=[np.argmin(bic)], marker='D')\n",
    "axes[1, 1].set_title('BIC')\n",
    "axes[1, 1].set_xticks(np.arange(0, 10, 1))"
   ]
  },
  {
   "cell_type": "code",
   "execution_count": 16,
   "id": "b7d22dc1",
   "metadata": {},
   "outputs": [
    {
     "data": {
      "text/plain": [
       "const     4.947337\n",
       "x1      -10.429378\n",
       "x2        3.073473\n",
       "x3       14.450429\n",
       "x7       -0.011511\n",
       "x10      -0.000260\n",
       "dtype: float64"
      ]
     },
     "execution_count": 16,
     "metadata": {},
     "output_type": "execute_result"
    }
   ],
   "source": [
    "# Coefficient estimates for best model obtained acc.to BIC\n",
    "bestsub_results.model[4].params\n"
   ]
  },
  {
   "cell_type": "code",
   "execution_count": 17,
   "id": "1c925172",
   "metadata": {},
   "outputs": [
    {
     "data": {
      "text/plain": [
       "const     5.068818\n",
       "x1       -9.646528\n",
       "x2        2.789910\n",
       "x3       12.042326\n",
       "x5        1.870729\n",
       "x6        0.033739\n",
       "x7       -0.504306\n",
       "x9        0.038531\n",
       "dtype: float64"
      ]
     },
     "execution_count": 17,
     "metadata": {},
     "output_type": "execute_result"
    }
   ],
   "source": [
    "# Coefficient estimates for best model obtained acc.to AIC and Adjusted R2\n",
    "bestsub_results.model[6].params"
   ]
  },
  {
   "cell_type": "code",
   "execution_count": 18,
   "id": "a98ed731",
   "metadata": {},
   "outputs": [
    {
     "name": "stderr",
     "output_type": "stream",
     "text": [
      "100%|██████████| 10/10 [00:00<00:00, 183.12it/s]\n",
      "100%|██████████| 9/9 [00:00<00:00, 341.27it/s]\n",
      "100%|██████████| 8/8 [00:00<00:00, 330.01it/s]\n",
      "100%|██████████| 7/7 [00:00<00:00, 289.84it/s]\n",
      "100%|██████████| 6/6 [00:00<00:00, 307.94it/s]\n",
      "100%|██████████| 5/5 [00:00<00:00, 196.56it/s]\n",
      "100%|██████████| 4/4 [00:00<00:00, 151.74it/s]\n",
      "100%|██████████| 3/3 [00:00<00:00, 111.36it/s]\n",
      "100%|██████████| 2/2 [00:00<00:00, 192.05it/s]\n",
      "100%|██████████| 1/1 [00:00<00:00, 333.17it/s]\n"
     ]
    }
   ],
   "source": [
    "def forward_stepwise(X, y, max_features):\n",
    "    models = []\n",
    "    feature_list = []\n",
    "    remaining_features = list(X.columns)\n",
    "    \n",
    "    def update_model(current_features, remaining_features):\n",
    "        best_rss = np.inf\n",
    "        best_model = None\n",
    "        \n",
    "        for new_feature in tqdm(remaining_features):\n",
    "            result = process_linear_model(feature_list + [new_feature], X, y)\n",
    "            if result[1] < best_rss:\n",
    "                best_rss = result[1]\n",
    "                best_model = result[0]\n",
    "\n",
    "        new_feature_list = list(best_model.params.index)[1:]\n",
    "        \n",
    "        return new_feature_list, best_model\n",
    "    \n",
    "    while remaining_features and len(feature_list) < max_features:\n",
    "        feature_list, best_model = update_model(feature_list, remaining_features)\n",
    "        remaining_features = [x for x in list(X.columns) if x not in feature_list]\n",
    "        models.append([feature_list, best_model])\n",
    "        \n",
    "    return models\n",
    "\n",
    "bestsub_forward = forward_stepwise(X, y, 10)"
   ]
  },
  {
   "cell_type": "code",
   "execution_count": 19,
   "id": "b49e264b",
   "metadata": {},
   "outputs": [
    {
     "data": {
      "text/plain": [
       "[<matplotlib.axis.XTick at 0x115ab49f4d0>,\n",
       " <matplotlib.axis.XTick at 0x115aad7a990>,\n",
       " <matplotlib.axis.XTick at 0x115aad7b110>,\n",
       " <matplotlib.axis.XTick at 0x115aad7b890>,\n",
       " <matplotlib.axis.XTick at 0x115aad94050>,\n",
       " <matplotlib.axis.XTick at 0x115aad947d0>,\n",
       " <matplotlib.axis.XTick at 0x115aad94f50>,\n",
       " <matplotlib.axis.XTick at 0x115aad956d0>,\n",
       " <matplotlib.axis.XTick at 0x115aad95e50>,\n",
       " <matplotlib.axis.XTick at 0x115aad965d0>]"
      ]
     },
     "execution_count": 19,
     "metadata": {},
     "output_type": "execute_result"
    },
    {
     "data": {
      "image/png": "[encoded data removed]",
      "text/plain": [
       "<Figure size 1000x1000 with 4 Axes>"
      ]
     },
     "metadata": {},
     "output_type": "display_data"
    }
   ],
   "source": [
    "aic_fwd = [model[1].aic for model in bestsub_forward]\n",
    "bic_fwd = [model[1].bic for model in bestsub_forward] \n",
    "r2_adj_fwd = [model[1].rsquared_adj for model in bestsub_forward]\n",
    "rss_fwd = [model[1].ssr for model in bestsub_forward]\n",
    "\n",
    "fig, axes = plt.subplots(2, 2, sharex=False, sharey=False)\n",
    "fig.set_figheight(10)\n",
    "fig.set_figwidth(10)\n",
    "fig.supxlabel('Num of Features')\n",
    "\n",
    "axes[0, 0].plot(rss_fwd)\n",
    "axes[0, 0].set_title('RSS')\n",
    "axes[0, 0].set_xticks(np.arange(0, 10, 1))\n",
    "\n",
    "axes[0, 1].plot(r2_adj_fwd, markevery=[np.argmax(r2_adj_fwd)], marker='D')\n",
    "axes[0, 1].set_title('Adj R Squared')\n",
    "axes[0, 1].set_xticks(np.arange(0, 10, 1))\n",
    "\n",
    "axes[1, 0].plot(aic_fwd, markevery=[np.argmin(aic_fwd)], marker='D')\n",
    "axes[1, 0].set_title('AIC')\n",
    "axes[1, 0].set_xticks(np.arange(0, 10, 1))\n",
    "\n",
    "axes[1, 1].plot(bic_fwd, markevery=[np.argmin(bic_fwd)], marker='D')\n",
    "axes[1, 1].set_title('BIC')\n",
    "axes[1, 1].set_xticks(np.arange(0, 10, 1))"
   ]
  },
  {
   "cell_type": "code",
   "execution_count": null,
   "id": "a69ae93c",
   "metadata": {},
   "outputs": [],
   "source": [
    "print('4-variable model parameter acc.t. forward stepwise: ', bestsub_forward[4][0])\n",
    "print('9-variable model parameter acc.t. forward stepwise: ', bestsub_forward[9][0])"
   ]
  },
  {
   "cell_type": "code",
   "execution_count": 21,
   "id": "504886d2",
   "metadata": {},
   "outputs": [
    {
     "name": "stderr",
     "output_type": "stream",
     "text": [
      "100%|██████████| 10/10 [00:00<00:00, 410.19it/s]\n",
      "100%|██████████| 9/9 [00:00<00:00, 337.74it/s]\n",
      "100%|██████████| 8/8 [00:00<00:00, 660.27it/s]\n",
      "100%|██████████| 7/7 [00:00<00:00, 762.94it/s]\n",
      "100%|██████████| 6/6 [00:00<00:00, 264.52it/s]\n",
      "100%|██████████| 5/5 [00:00<00:00, 258.92it/s]\n",
      "100%|██████████| 4/4 [00:00<00:00, 418.03it/s]\n",
      "100%|██████████| 3/3 [00:00<00:00, 716.65it/s]\n",
      "100%|██████████| 2/2 [00:00<00:00, 365.33it/s]\n",
      "100%|██████████| 1/1 [00:00<00:00, 67.07it/s]\n"
     ]
    }
   ],
   "source": [
    "def backward_stepwise(X, y, min_feature):\n",
    "    models = []\n",
    "    feature_list = list(X.columns)\n",
    "    \n",
    "    def update_model(feature_list):\n",
    "        best_rss = np.inf\n",
    "        best_model = None\n",
    "        best_feature_list = []\n",
    "        \n",
    "        for feature in tqdm(feature_list):\n",
    "            new_feature_list = [x for x in feature_list if x != feature]\n",
    "            \n",
    "            result = process_linear_model(new_feature_list, X, y)\n",
    "            if result[1] < best_rss:\n",
    "                best_rss = result[1]\n",
    "                best_model = result[0]\n",
    "        \n",
    "        best_feature_list = list(best_model.params.index)[1:]\n",
    "        return best_feature_list, best_model\n",
    "    \n",
    "    while len(feature_list) >= min_feature:\n",
    "        best_feature_list, best_model = update_model(feature_list)\n",
    "        feature_list = best_feature_list\n",
    "        models.append([feature_list, best_model])\n",
    "    \n",
    "    return models\n",
    "\n",
    "bestsub_backward = backward_stepwise(X, y, 1)"
   ]
  },
  {
   "cell_type": "code",
   "execution_count": 22,
   "id": "5abfb6ef",
   "metadata": {},
   "outputs": [
    {
     "data": {
      "text/plain": [
       "[<matplotlib.axis.XTick at 0x115aaee9590>,\n",
       " <matplotlib.axis.XTick at 0x115a66865d0>,\n",
       " <matplotlib.axis.XTick at 0x115aaf84910>,\n",
       " <matplotlib.axis.XTick at 0x115aaf85090>,\n",
       " <matplotlib.axis.XTick at 0x115aaf85810>,\n",
       " <matplotlib.axis.XTick at 0x115aaf85f90>,\n",
       " <matplotlib.axis.XTick at 0x115aaf86710>,\n",
       " <matplotlib.axis.XTick at 0x115aaf86e90>,\n",
       " <matplotlib.axis.XTick at 0x115aaf87610>,\n",
       " <matplotlib.axis.XTick at 0x115aaf87d90>]"
      ]
     },
     "execution_count": 22,
     "metadata": {},
     "output_type": "execute_result"
    },
    {
     "data": {
      "image/png": "[encoded data removed]",
      "text/plain": [
       "<Figure size 1000x1000 with 4 Axes>"
      ]
     },
     "metadata": {},
     "output_type": "display_data"
    }
   ],
   "source": [
    "aic_back = [model[1].aic for model in bestsub_backward]\n",
    "bic_back = [model[1].bic for model in bestsub_backward] \n",
    "r2_adj_back = [model[1].rsquared_adj for model in bestsub_backward]\n",
    "rss_back = [model[1].ssr for model in bestsub_backward]\n",
    "\n",
    "fig, axes = plt.subplots(2, 2, sharex=False, sharey=False)\n",
    "fig.set_figheight(10)\n",
    "fig.set_figwidth(10)\n",
    "fig.supxlabel('Num of Features Removed')\n",
    "\n",
    "axes[0, 0].plot(rss_back)\n",
    "axes[0, 0].set_title('RSS')\n",
    "axes[0, 0].set_xticks(np.arange(0, 10, 1))\n",
    "\n",
    "axes[0, 1].plot(r2_adj_back, markevery=[np.argmax(r2_adj_back)], marker='D')\n",
    "axes[0, 1].set_title('Adj R Squared')\n",
    "axes[0, 1].set_xticks(np.arange(0, 10, 1))\n",
    "\n",
    "axes[1, 0].plot(aic_back, markevery=[np.argmin(aic_back)], marker='D')\n",
    "axes[1, 0].set_title('AIC')\n",
    "axes[1, 0].set_xticks(np.arange(0, 10, 1))\n",
    "\n",
    "axes[1, 1].plot(bic_back, markevery=[np.argmin(bic_back)], marker='D')\n",
    "axes[1, 1].set_title('BIC')\n",
    "axes[1, 1].set_xticks(np.arange(0, 10, 1))"
   ]
  },
  {
   "cell_type": "code",
   "execution_count": 23,
   "id": "ffc9a4c4",
   "metadata": {},
   "outputs": [
    {
     "name": "stdout",
     "output_type": "stream",
     "text": [
      "8-variable model parameter acc.t. backward stepwise:  ['x1', 'x2', 'x3', 'x5', 'x7', 'x8', 'x9', 'x10']\n",
      "7-variable model parameter acc.t. backward stepwise:  ['x1', 'x2', 'x3', 'x5', 'x7', 'x8', 'x9']\n",
      "5-variable model parameter acc.t. backward stepwise:  ['x1', 'x2', 'x3', 'x7', 'x9']\n"
     ]
    },
    {
     "data": {
      "text/html": [
       "<style>#sk-container-id-1 {\n",
       "  /* Definition of color scheme common for light and dark mode */\n",
       "  --sklearn-color-text: #000;\n",
       "  --sklearn-color-text-muted: #666;\n",
       "  --sklearn-color-line: gray;\n",
       "  /* Definition of color scheme for unfitted estimators */\n",
       "  --sklearn-color-unfitted-level-0: #fff5e6;\n",
       "  --sklearn-color-unfitted-level-1: #f6e4d2;\n",
       "  --sklearn-color-unfitted-level-2: #ffe0b3;\n",
       "  --sklearn-color-unfitted-level-3: chocolate;\n",
       "  /* Definition of color scheme for fitted estimators */\n",
       "  --sklearn-color-fitted-level-0: #f0f8ff;\n",
       "  --sklearn-color-fitted-level-1: #d4ebff;\n",
       "  --sklearn-color-fitted-level-2: #b3dbfd;\n",
       "  --sklearn-color-fitted-level-3: cornflowerblue;\n",
       "\n",
       "  /* Specific color for light theme */\n",
       "  --sklearn-color-text-on-default-background: var(--sg-text-color, var(--theme-code-foreground, var(--jp-content-font-color1, black)));\n",
       "  --sklearn-color-background: var(--sg-background-color, var(--theme-background, var(--jp-layout-color0, white)));\n",
       "  --sklearn-color-border-box: var(--sg-text-color, var(--theme-code-foreground, var(--jp-content-font-color1, black)));\n",
       "  --sklearn-color-icon: #696969;\n",
       "\n",
       "  @media (prefers-color-scheme: dark) {\n",
       "    /* Redefinition of color scheme for dark theme */\n",
       "    --sklearn-color-text-on-default-background: var(--sg-text-color, var(--theme-code-foreground, var(--jp-content-font-color1, white)));\n",
       "    --sklearn-color-background: var(--sg-background-color, var(--theme-background, var(--jp-layout-color0, #111)));\n",
       "    --sklearn-color-border-box: var(--sg-text-color, var(--theme-code-foreground, var(--jp-content-font-color1, white)));\n",
       "    --sklearn-color-icon: #878787;\n",
       "  }\n",
       "}\n",
       "\n",
       "#sk-container-id-1 {\n",
       "  color: var(--sklearn-color-text);\n",
       "}\n",
       "\n",
       "#sk-container-id-1 pre {\n",
       "  padding: 0;\n",
       "}\n",
       "\n",
       "#sk-container-id-1 input.sk-hidden--visually {\n",
       "  border: 0;\n",
       "  clip: rect(1px 1px 1px 1px);\n",
       "  clip: rect(1px, 1px, 1px, 1px);\n",
       "  height: 1px;\n",
       "  margin: -1px;\n",
       "  overflow: hidden;\n",
       "  padding: 0;\n",
       "  position: absolute;\n",
       "  width: 1px;\n",
       "}\n",
       "\n",
       "#sk-container-id-1 div.sk-dashed-wrapped {\n",
       "  border: 1px dashed var(--sklearn-color-line);\n",
       "  margin: 0 0.4em 0.5em 0.4em;\n",
       "  box-sizing: border-box;\n",
       "  padding-bottom: 0.4em;\n",
       "  background-color: var(--sklearn-color-background);\n",
       "}\n",
       "\n",
       "#sk-container-id-1 div.sk-container {\n",
       "  /* jupyter's `normalize.less` sets `[hidden] { display: none; }`\n",
       "     but bootstrap.min.css set `[hidden] { display: none !important; }`\n",
       "     so we also need the `!important` here to be able to override the\n",
       "     default hidden behavior on the sphinx rendered scikit-learn.org.\n",
       "     See: https://github.com/scikit-learn/scikit-learn/issues/21755 */\n",
       "  display: inline-block !important;\n",
       "  position: relative;\n",
       "}\n",
       "\n",
       "#sk-container-id-1 div.sk-text-repr-fallback {\n",
       "  display: none;\n",
       "}\n",
       "\n",
       "div.sk-parallel-item,\n",
       "div.sk-serial,\n",
       "div.sk-item {\n",
       "  /* draw centered vertical line to link estimators */\n",
       "  background-image: linear-gradient(var(--sklearn-color-text-on-default-background), var(--sklearn-color-text-on-default-background));\n",
       "  background-size: 2px 100%;\n",
       "  background-repeat: no-repeat;\n",
       "  background-position: center center;\n",
       "}\n",
       "\n",
       "/* Parallel-specific style estimator block */\n",
       "\n",
       "#sk-container-id-1 div.sk-parallel-item::after {\n",
       "  content: \"\";\n",
       "  width: 100%;\n",
       "  border-bottom: 2px solid var(--sklearn-color-text-on-default-background);\n",
       "  flex-grow: 1;\n",
       "}\n",
       "\n",
       "#sk-container-id-1 div.sk-parallel {\n",
       "  display: flex;\n",
       "  align-items: stretch;\n",
       "  justify-content: center;\n",
       "  background-color: var(--sklearn-color-background);\n",
       "  position: relative;\n",
       "}\n",
       "\n",
       "#sk-container-id-1 div.sk-parallel-item {\n",
       "  display: flex;\n",
       "  flex-direction: column;\n",
       "}\n",
       "\n",
       "#sk-container-id-1 div.sk-parallel-item:first-child::after {\n",
       "  align-self: flex-end;\n",
       "  width: 50%;\n",
       "}\n",
       "\n",
       "#sk-container-id-1 div.sk-parallel-item:last-child::after {\n",
       "  align-self: flex-start;\n",
       "  width: 50%;\n",
       "}\n",
       "\n",
       "#sk-container-id-1 div.sk-parallel-item:only-child::after {\n",
       "  width: 0;\n",
       "}\n",
       "\n",
       "/* Serial-specific style estimator block */\n",
       "\n",
       "#sk-container-id-1 div.sk-serial {\n",
       "  display: flex;\n",
       "  flex-direction: column;\n",
       "  align-items: center;\n",
       "  background-color: var(--sklearn-color-background);\n",
       "  padding-right: 1em;\n",
       "  padding-left: 1em;\n",
       "}\n",
       "\n",
       "\n",
       "/* Toggleable style: style used for estimator/Pipeline/ColumnTransformer box that is\n",
       "clickable and can be expanded/collapsed.\n",
       "- Pipeline and ColumnTransformer use this feature and define the default style\n",
       "- Estimators will overwrite some part of the style using the `sk-estimator` class\n",
       "*/\n",
       "\n",
       "/* Pipeline and ColumnTransformer style (default) */\n",
       "\n",
       "#sk-container-id-1 div.sk-toggleable {\n",
       "  /* Default theme specific background. It is overwritten whether we have a\n",
       "  specific estimator or a Pipeline/ColumnTransformer */\n",
       "  background-color: var(--sklearn-color-background);\n",
       "}\n",
       "\n",
       "/* Toggleable label */\n",
       "#sk-container-id-1 label.sk-toggleable__label {\n",
       "  cursor: pointer;\n",
       "  display: flex;\n",
       "  width: 100%;\n",
       "  margin-bottom: 0;\n",
       "  padding: 0.5em;\n",
       "  box-sizing: border-box;\n",
       "  text-align: center;\n",
       "  align-items: start;\n",
       "  justify-content: space-between;\n",
       "  gap: 0.5em;\n",
       "}\n",
       "\n",
       "#sk-container-id-1 label.sk-toggleable__label .caption {\n",
       "  font-size: 0.6rem;\n",
       "  font-weight: lighter;\n",
       "  color: var(--sklearn-color-text-muted);\n",
       "}\n",
       "\n",
       "#sk-container-id-1 label.sk-toggleable__label-arrow:before {\n",
       "  /* Arrow on the left of the label */\n",
       "  content: \"▸\";\n",
       "  float: left;\n",
       "  margin-right: 0.25em;\n",
       "  color: var(--sklearn-color-icon);\n",
       "}\n",
       "\n",
       "#sk-container-id-1 label.sk-toggleable__label-arrow:hover:before {\n",
       "  color: var(--sklearn-color-text);\n",
       "}\n",
       "\n",
       "/* Toggleable content - dropdown */\n",
       "\n",
       "#sk-container-id-1 div.sk-toggleable__content {\n",
       "  display: none;\n",
       "  text-align: left;\n",
       "  /* unfitted */\n",
       "  background-color: var(--sklearn-color-unfitted-level-0);\n",
       "}\n",
       "\n",
       "#sk-container-id-1 div.sk-toggleable__content.fitted {\n",
       "  /* fitted */\n",
       "  background-color: var(--sklearn-color-fitted-level-0);\n",
       "}\n",
       "\n",
       "#sk-container-id-1 div.sk-toggleable__content pre {\n",
       "  margin: 0.2em;\n",
       "  border-radius: 0.25em;\n",
       "  color: var(--sklearn-color-text);\n",
       "  /* unfitted */\n",
       "  background-color: var(--sklearn-color-unfitted-level-0);\n",
       "}\n",
       "\n",
       "#sk-container-id-1 div.sk-toggleable__content.fitted pre {\n",
       "  /* unfitted */\n",
       "  background-color: var(--sklearn-color-fitted-level-0);\n",
       "}\n",
       "\n",
       "#sk-container-id-1 input.sk-toggleable__control:checked~div.sk-toggleable__content {\n",
       "  /* Expand drop-down */\n",
       "  display: block;\n",
       "  width: 100%;\n",
       "  overflow: visible;\n",
       "}\n",
       "\n",
       "#sk-container-id-1 input.sk-toggleable__control:checked~label.sk-toggleable__label-arrow:before {\n",
       "  content: \"▾\";\n",
       "}\n",
       "\n",
       "/* Pipeline/ColumnTransformer-specific style */\n",
       "\n",
       "#sk-container-id-1 div.sk-label input.sk-toggleable__control:checked~label.sk-toggleable__label {\n",
       "  color: var(--sklearn-color-text);\n",
       "  background-color: var(--sklearn-color-unfitted-level-2);\n",
       "}\n",
       "\n",
       "#sk-container-id-1 div.sk-label.fitted input.sk-toggleable__control:checked~label.sk-toggleable__label {\n",
       "  background-color: var(--sklearn-color-fitted-level-2);\n",
       "}\n",
       "\n",
       "/* Estimator-specific style */\n",
       "\n",
       "/* Colorize estimator box */\n",
       "#sk-container-id-1 div.sk-estimator input.sk-toggleable__control:checked~label.sk-toggleable__label {\n",
       "  /* unfitted */\n",
       "  background-color: var(--sklearn-color-unfitted-level-2);\n",
       "}\n",
       "\n",
       "#sk-container-id-1 div.sk-estimator.fitted input.sk-toggleable__control:checked~label.sk-toggleable__label {\n",
       "  /* fitted */\n",
       "  background-color: var(--sklearn-color-fitted-level-2);\n",
       "}\n",
       "\n",
       "#sk-container-id-1 div.sk-label label.sk-toggleable__label,\n",
       "#sk-container-id-1 div.sk-label label {\n",
       "  /* The background is the default theme color */\n",
       "  color: var(--sklearn-color-text-on-default-background);\n",
       "}\n",
       "\n",
       "/* On hover, darken the color of the background */\n",
       "#sk-container-id-1 div.sk-label:hover label.sk-toggleable__label {\n",
       "  color: var(--sklearn-color-text);\n",
       "  background-color: var(--sklearn-color-unfitted-level-2);\n",
       "}\n",
       "\n",
       "/* Label box, darken color on hover, fitted */\n",
       "#sk-container-id-1 div.sk-label.fitted:hover label.sk-toggleable__label.fitted {\n",
       "  color: var(--sklearn-color-text);\n",
       "  background-color: var(--sklearn-color-fitted-level-2);\n",
       "}\n",
       "\n",
       "/* Estimator label */\n",
       "\n",
       "#sk-container-id-1 div.sk-label label {\n",
       "  font-family: monospace;\n",
       "  font-weight: bold;\n",
       "  display: inline-block;\n",
       "  line-height: 1.2em;\n",
       "}\n",
       "\n",
       "#sk-container-id-1 div.sk-label-container {\n",
       "  text-align: center;\n",
       "}\n",
       "\n",
       "/* Estimator-specific */\n",
       "#sk-container-id-1 div.sk-estimator {\n",
       "  font-family: monospace;\n",
       "  border: 1px dotted var(--sklearn-color-border-box);\n",
       "  border-radius: 0.25em;\n",
       "  box-sizing: border-box;\n",
       "  margin-bottom: 0.5em;\n",
       "  /* unfitted */\n",
       "  background-color: var(--sklearn-color-unfitted-level-0);\n",
       "}\n",
       "\n",
       "#sk-container-id-1 div.sk-estimator.fitted {\n",
       "  /* fitted */\n",
       "  background-color: var(--sklearn-color-fitted-level-0);\n",
       "}\n",
       "\n",
       "/* on hover */\n",
       "#sk-container-id-1 div.sk-estimator:hover {\n",
       "  /* unfitted */\n",
       "  background-color: var(--sklearn-color-unfitted-level-2);\n",
       "}\n",
       "\n",
       "#sk-container-id-1 div.sk-estimator.fitted:hover {\n",
       "  /* fitted */\n",
       "  background-color: var(--sklearn-color-fitted-level-2);\n",
       "}\n",
       "\n",
       "/* Specification for estimator info (e.g. \"i\" and \"?\") */\n",
       "\n",
       "/* Common style for \"i\" and \"?\" */\n",
       "\n",
       ".sk-estimator-doc-link,\n",
       "a:link.sk-estimator-doc-link,\n",
       "a:visited.sk-estimator-doc-link {\n",
       "  float: right;\n",
       "  font-size: smaller;\n",
       "  line-height: 1em;\n",
       "  font-family: monospace;\n",
       "  background-color: var(--sklearn-color-background);\n",
       "  border-radius: 1em;\n",
       "  height: 1em;\n",
       "  width: 1em;\n",
       "  text-decoration: none !important;\n",
       "  margin-left: 0.5em;\n",
       "  text-align: center;\n",
       "  /* unfitted */\n",
       "  border: var(--sklearn-color-unfitted-level-1) 1pt solid;\n",
       "  color: var(--sklearn-color-unfitted-level-1);\n",
       "}\n",
       "\n",
       ".sk-estimator-doc-link.fitted,\n",
       "a:link.sk-estimator-doc-link.fitted,\n",
       "a:visited.sk-estimator-doc-link.fitted {\n",
       "  /* fitted */\n",
       "  border: var(--sklearn-color-fitted-level-1) 1pt solid;\n",
       "  color: var(--sklearn-color-fitted-level-1);\n",
       "}\n",
       "\n",
       "/* On hover */\n",
       "div.sk-estimator:hover .sk-estimator-doc-link:hover,\n",
       ".sk-estimator-doc-link:hover,\n",
       "div.sk-label-container:hover .sk-estimator-doc-link:hover,\n",
       ".sk-estimator-doc-link:hover {\n",
       "  /* unfitted */\n",
       "  background-color: var(--sklearn-color-unfitted-level-3);\n",
       "  color: var(--sklearn-color-background);\n",
       "  text-decoration: none;\n",
       "}\n",
       "\n",
       "div.sk-estimator.fitted:hover .sk-estimator-doc-link.fitted:hover,\n",
       ".sk-estimator-doc-link.fitted:hover,\n",
       "div.sk-label-container:hover .sk-estimator-doc-link.fitted:hover,\n",
       ".sk-estimator-doc-link.fitted:hover {\n",
       "  /* fitted */\n",
       "  background-color: var(--sklearn-color-fitted-level-3);\n",
       "  color: var(--sklearn-color-background);\n",
       "  text-decoration: none;\n",
       "}\n",
       "\n",
       "/* Span, style for the box shown on hovering the info icon */\n",
       ".sk-estimator-doc-link span {\n",
       "  display: none;\n",
       "  z-index: 9999;\n",
       "  position: relative;\n",
       "  font-weight: normal;\n",
       "  right: .2ex;\n",
       "  padding: .5ex;\n",
       "  margin: .5ex;\n",
       "  width: min-content;\n",
       "  min-width: 20ex;\n",
       "  max-width: 50ex;\n",
       "  color: var(--sklearn-color-text);\n",
       "  box-shadow: 2pt 2pt 4pt #999;\n",
       "  /* unfitted */\n",
       "  background: var(--sklearn-color-unfitted-level-0);\n",
       "  border: .5pt solid var(--sklearn-color-unfitted-level-3);\n",
       "}\n",
       "\n",
       ".sk-estimator-doc-link.fitted span {\n",
       "  /* fitted */\n",
       "  background: var(--sklearn-color-fitted-level-0);\n",
       "  border: var(--sklearn-color-fitted-level-3);\n",
       "}\n",
       "\n",
       ".sk-estimator-doc-link:hover span {\n",
       "  display: block;\n",
       "}\n",
       "\n",
       "/* \"?\"-specific style due to the `<a>` HTML tag */\n",
       "\n",
       "#sk-container-id-1 a.estimator_doc_link {\n",
       "  float: right;\n",
       "  font-size: 1rem;\n",
       "  line-height: 1em;\n",
       "  font-family: monospace;\n",
       "  background-color: var(--sklearn-color-background);\n",
       "  border-radius: 1rem;\n",
       "  height: 1rem;\n",
       "  width: 1rem;\n",
       "  text-decoration: none;\n",
       "  /* unfitted */\n",
       "  color: var(--sklearn-color-unfitted-level-1);\n",
       "  border: var(--sklearn-color-unfitted-level-1) 1pt solid;\n",
       "}\n",
       "\n",
       "#sk-container-id-1 a.estimator_doc_link.fitted {\n",
       "  /* fitted */\n",
       "  border: var(--sklearn-color-fitted-level-1) 1pt solid;\n",
       "  color: var(--sklearn-color-fitted-level-1);\n",
       "}\n",
       "\n",
       "/* On hover */\n",
       "#sk-container-id-1 a.estimator_doc_link:hover {\n",
       "  /* unfitted */\n",
       "  background-color: var(--sklearn-color-unfitted-level-3);\n",
       "  color: var(--sklearn-color-background);\n",
       "  text-decoration: none;\n",
       "}\n",
       "\n",
       "#sk-container-id-1 a.estimator_doc_link.fitted:hover {\n",
       "  /* fitted */\n",
       "  background-color: var(--sklearn-color-fitted-level-3);\n",
       "}\n",
       "\n",
       ".estimator-table summary {\n",
       "    padding: .5rem;\n",
       "    font-family: monospace;\n",
       "    cursor: pointer;\n",
       "}\n",
       "\n",
       ".estimator-table details[open] {\n",
       "    padding-left: 0.1rem;\n",
       "    padding-right: 0.1rem;\n",
       "    padding-bottom: 0.3rem;\n",
       "}\n",
       "\n",
       ".estimator-table .parameters-table {\n",
       "    margin-left: auto !important;\n",
       "    margin-right: auto !important;\n",
       "}\n",
       "\n",
       ".estimator-table .parameters-table tr:nth-child(odd) {\n",
       "    background-color: #fff;\n",
       "}\n",
       "\n",
       ".estimator-table .parameters-table tr:nth-child(even) {\n",
       "    background-color: #f6f6f6;\n",
       "}\n",
       "\n",
       ".estimator-table .parameters-table tr:hover {\n",
       "    background-color: #e0e0e0;\n",
       "}\n",
       "\n",
       ".estimator-table table td {\n",
       "    border: 1px solid rgba(106, 105, 104, 0.232);\n",
       "}\n",
       "\n",
       ".user-set td {\n",
       "    color:rgb(255, 94, 0);\n",
       "    text-align: left;\n",
       "}\n",
       "\n",
       ".user-set td.value pre {\n",
       "    color:rgb(255, 94, 0) !important;\n",
       "    background-color: transparent !important;\n",
       "}\n",
       "\n",
       ".default td {\n",
       "    color: black;\n",
       "    text-align: left;\n",
       "}\n",
       "\n",
       ".user-set td i,\n",
       ".default td i {\n",
       "    color: black;\n",
       "}\n",
       "\n",
       ".copy-paste-icon {\n",
       "    background-image: url(data:image/svg+xml;base64,PHN2ZyB4bWxucz0iaHR0cDovL3d3dy53My5vcmcvMjAwMC9zdmciIHZpZXdCb3g9IjAgMCA0NDggNTEyIj48IS0tIUZvbnQgQXdlc29tZSBGcmVlIDYuNy4yIGJ5IEBmb250YXdlc29tZSAtIGh0dHBzOi8vZm9udGF3ZXNvbWUuY29tIExpY2Vuc2UgLSBodHRwczovL2ZvbnRhd2Vzb21lLmNvbS9saWNlbnNlL2ZyZWUgQ29weXJpZ2h0IDIwMjUgRm9udGljb25zLCBJbmMuLS0+PHBhdGggZD0iTTIwOCAwTDMzMi4xIDBjMTIuNyAwIDI0LjkgNS4xIDMzLjkgMTQuMWw2Ny45IDY3LjljOSA5IDE0LjEgMjEuMiAxNC4xIDMzLjlMNDQ4IDMzNmMwIDI2LjUtMjEuNSA0OC00OCA0OGwtMTkyIDBjLTI2LjUgMC00OC0yMS41LTQ4LTQ4bDAtMjg4YzAtMjYuNSAyMS41LTQ4IDQ4LTQ4ek00OCAxMjhsODAgMCAwIDY0LTY0IDAgMCAyNTYgMTkyIDAgMC0zMiA2NCAwIDAgNDhjMCAyNi41LTIxLjUgNDgtNDggNDhMNDggNTEyYy0yNi41IDAtNDgtMjEuNS00OC00OEwwIDE3NmMwLTI2LjUgMjEuNS00OCA0OC00OHoiLz48L3N2Zz4=);\n",
       "    background-repeat: no-repeat;\n",
       "    background-size: 14px 14px;\n",
       "    background-position: 0;\n",
       "    display: inline-block;\n",
       "    width: 14px;\n",
       "    height: 14px;\n",
       "    cursor: pointer;\n",
       "}\n",
       "</style><body><div id=\"sk-container-id-1\" class=\"sk-top-container\"><div class=\"sk-text-repr-fallback\"><pre>LassoCV(alphas=array([0.0001    , 0.00010723, 0.00011498, 0.00012328, 0.00013219,\n",
       "       0.00014175, 0.00015199, 0.00016298, 0.00017475, 0.00018738,\n",
       "       0.00020092, 0.00021544, 0.00023101, 0.00024771, 0.00026561,\n",
       "       0.0002848 , 0.00030539, 0.00032745, 0.00035112, 0.00037649,\n",
       "       0.0004037 , 0.00043288, 0.00046416, 0.0004977 , 0.00053367,\n",
       "       0.00057224, 0.00061359, 0.00065793, 0.00070548, 0.00075646,\n",
       "       0.000...\n",
       "       0.00932603, 0.01      , 0.01072267, 0.01149757, 0.01232847,\n",
       "       0.01321941, 0.01417474, 0.01519911, 0.01629751, 0.01747528,\n",
       "       0.01873817, 0.02009233, 0.02154435, 0.0231013 , 0.02477076,\n",
       "       0.02656088, 0.02848036, 0.03053856, 0.03274549, 0.03511192,\n",
       "       0.03764936, 0.04037017, 0.04328761, 0.04641589, 0.04977024,\n",
       "       0.05336699, 0.05722368, 0.06135907, 0.06579332, 0.07054802,\n",
       "       0.07564633, 0.08111308, 0.0869749 , 0.09326033, 0.1       ]),\n",
       "        cv=5, max_iter=100000)</pre><b>In a Jupyter environment, please rerun this cell to show the HTML representation or trust the notebook. <br />On GitHub, the HTML representation is unable to render, please try loading this page with nbviewer.org.</b></div><div class=\"sk-container\" hidden><div class=\"sk-item\"><div class=\"sk-estimator fitted sk-toggleable\"><input class=\"sk-toggleable__control sk-hidden--visually\" id=\"sk-estimator-id-1\" type=\"checkbox\" checked><label for=\"sk-estimator-id-1\" class=\"sk-toggleable__label fitted sk-toggleable__label-arrow\"><div><div>LassoCV</div></div><div><a class=\"sk-estimator-doc-link fitted\" rel=\"noreferrer\" target=\"_blank\" href=\"https://scikit-learn.org/1.7/modules/generated/sklearn.linear_model.LassoCV.html\">?<span>Documentation for LassoCV</span></a><span class=\"sk-estimator-doc-link fitted\">i<span>Fitted</span></span></div></label><div class=\"sk-toggleable__content fitted\" data-param-prefix=\"\">\n",
       "        <div class=\"estimator-table\">\n",
       "            <details>\n",
       "                <summary>Parameters</summary>\n",
       "                <table class=\"parameters-table\">\n",
       "                  <tbody>\n",
       "                    \n",
       "        <tr class=\"default\">\n",
       "            <td><i class=\"copy-paste-icon\"\n",
       "                 onclick=\"copyToClipboard('eps',\n",
       "                          this.parentElement.nextElementSibling)\"\n",
       "            ></i></td>\n",
       "            <td class=\"param\">eps&nbsp;</td>\n",
       "            <td class=\"value\">0.001</td>\n",
       "        </tr>\n",
       "    \n",
       "\n",
       "        <tr class=\"default\">\n",
       "            <td><i class=\"copy-paste-icon\"\n",
       "                 onclick=\"copyToClipboard('n_alphas',\n",
       "                          this.parentElement.nextElementSibling)\"\n",
       "            ></i></td>\n",
       "            <td class=\"param\">n_alphas&nbsp;</td>\n",
       "            <td class=\"value\">&#x27;deprecated&#x27;</td>\n",
       "        </tr>\n",
       "    \n",
       "\n",
       "        <tr class=\"user-set\">\n",
       "            <td><i class=\"copy-paste-icon\"\n",
       "                 onclick=\"copyToClipboard('alphas',\n",
       "                          this.parentElement.nextElementSibling)\"\n",
       "            ></i></td>\n",
       "            <td class=\"param\">alphas&nbsp;</td>\n",
       "            <td class=\"value\">array([0.0001..., 0.1       ])</td>\n",
       "        </tr>\n",
       "    \n",
       "\n",
       "        <tr class=\"default\">\n",
       "            <td><i class=\"copy-paste-icon\"\n",
       "                 onclick=\"copyToClipboard('fit_intercept',\n",
       "                          this.parentElement.nextElementSibling)\"\n",
       "            ></i></td>\n",
       "            <td class=\"param\">fit_intercept&nbsp;</td>\n",
       "            <td class=\"value\">True</td>\n",
       "        </tr>\n",
       "    \n",
       "\n",
       "        <tr class=\"default\">\n",
       "            <td><i class=\"copy-paste-icon\"\n",
       "                 onclick=\"copyToClipboard('precompute',\n",
       "                          this.parentElement.nextElementSibling)\"\n",
       "            ></i></td>\n",
       "            <td class=\"param\">precompute&nbsp;</td>\n",
       "            <td class=\"value\">&#x27;auto&#x27;</td>\n",
       "        </tr>\n",
       "    \n",
       "\n",
       "        <tr class=\"user-set\">\n",
       "            <td><i class=\"copy-paste-icon\"\n",
       "                 onclick=\"copyToClipboard('max_iter',\n",
       "                          this.parentElement.nextElementSibling)\"\n",
       "            ></i></td>\n",
       "            <td class=\"param\">max_iter&nbsp;</td>\n",
       "            <td class=\"value\">100000</td>\n",
       "        </tr>\n",
       "    \n",
       "\n",
       "        <tr class=\"default\">\n",
       "            <td><i class=\"copy-paste-icon\"\n",
       "                 onclick=\"copyToClipboard('tol',\n",
       "                          this.parentElement.nextElementSibling)\"\n",
       "            ></i></td>\n",
       "            <td class=\"param\">tol&nbsp;</td>\n",
       "            <td class=\"value\">0.0001</td>\n",
       "        </tr>\n",
       "    \n",
       "\n",
       "        <tr class=\"default\">\n",
       "            <td><i class=\"copy-paste-icon\"\n",
       "                 onclick=\"copyToClipboard('copy_X',\n",
       "                          this.parentElement.nextElementSibling)\"\n",
       "            ></i></td>\n",
       "            <td class=\"param\">copy_X&nbsp;</td>\n",
       "            <td class=\"value\">True</td>\n",
       "        </tr>\n",
       "    \n",
       "\n",
       "        <tr class=\"user-set\">\n",
       "            <td><i class=\"copy-paste-icon\"\n",
       "                 onclick=\"copyToClipboard('cv',\n",
       "                          this.parentElement.nextElementSibling)\"\n",
       "            ></i></td>\n",
       "            <td class=\"param\">cv&nbsp;</td>\n",
       "            <td class=\"value\">5</td>\n",
       "        </tr>\n",
       "    \n",
       "\n",
       "        <tr class=\"default\">\n",
       "            <td><i class=\"copy-paste-icon\"\n",
       "                 onclick=\"copyToClipboard('verbose',\n",
       "                          this.parentElement.nextElementSibling)\"\n",
       "            ></i></td>\n",
       "            <td class=\"param\">verbose&nbsp;</td>\n",
       "            <td class=\"value\">False</td>\n",
       "        </tr>\n",
       "    \n",
       "\n",
       "        <tr class=\"default\">\n",
       "            <td><i class=\"copy-paste-icon\"\n",
       "                 onclick=\"copyToClipboard('n_jobs',\n",
       "                          this.parentElement.nextElementSibling)\"\n",
       "            ></i></td>\n",
       "            <td class=\"param\">n_jobs&nbsp;</td>\n",
       "            <td class=\"value\">None</td>\n",
       "        </tr>\n",
       "    \n",
       "\n",
       "        <tr class=\"default\">\n",
       "            <td><i class=\"copy-paste-icon\"\n",
       "                 onclick=\"copyToClipboard('positive',\n",
       "                          this.parentElement.nextElementSibling)\"\n",
       "            ></i></td>\n",
       "            <td class=\"param\">positive&nbsp;</td>\n",
       "            <td class=\"value\">False</td>\n",
       "        </tr>\n",
       "    \n",
       "\n",
       "        <tr class=\"default\">\n",
       "            <td><i class=\"copy-paste-icon\"\n",
       "                 onclick=\"copyToClipboard('random_state',\n",
       "                          this.parentElement.nextElementSibling)\"\n",
       "            ></i></td>\n",
       "            <td class=\"param\">random_state&nbsp;</td>\n",
       "            <td class=\"value\">None</td>\n",
       "        </tr>\n",
       "    \n",
       "\n",
       "        <tr class=\"default\">\n",
       "            <td><i class=\"copy-paste-icon\"\n",
       "                 onclick=\"copyToClipboard('selection',\n",
       "                          this.parentElement.nextElementSibling)\"\n",
       "            ></i></td>\n",
       "            <td class=\"param\">selection&nbsp;</td>\n",
       "            <td class=\"value\">&#x27;cyclic&#x27;</td>\n",
       "        </tr>\n",
       "    \n",
       "                  </tbody>\n",
       "                </table>\n",
       "            </details>\n",
       "        </div>\n",
       "    </div></div></div></div></div><script>function copyToClipboard(text, element) {\n",
       "    // Get the parameter prefix from the closest toggleable content\n",
       "    const toggleableContent = element.closest('.sk-toggleable__content');\n",
       "    const paramPrefix = toggleableContent ? toggleableContent.dataset.paramPrefix : '';\n",
       "    const fullParamName = paramPrefix ? `${paramPrefix}${text}` : text;\n",
       "\n",
       "    const originalStyle = element.style;\n",
       "    const computedStyle = window.getComputedStyle(element);\n",
       "    const originalWidth = computedStyle.width;\n",
       "    const originalHTML = element.innerHTML.replace('Copied!', '');\n",
       "\n",
       "    navigator.clipboard.writeText(fullParamName)\n",
       "        .then(() => {\n",
       "            element.style.width = originalWidth;\n",
       "            element.style.color = 'green';\n",
       "            element.innerHTML = \"Copied!\";\n",
       "\n",
       "            setTimeout(() => {\n",
       "                element.innerHTML = originalHTML;\n",
       "                element.style = originalStyle;\n",
       "            }, 2000);\n",
       "        })\n",
       "        .catch(err => {\n",
       "            console.error('Failed to copy:', err);\n",
       "            element.style.color = 'red';\n",
       "            element.innerHTML = \"Failed!\";\n",
       "            setTimeout(() => {\n",
       "                element.innerHTML = originalHTML;\n",
       "                element.style = originalStyle;\n",
       "            }, 2000);\n",
       "        });\n",
       "    return false;\n",
       "}\n",
       "\n",
       "document.querySelectorAll('.fa-regular.fa-copy').forEach(function(element) {\n",
       "    const toggleableContent = element.closest('.sk-toggleable__content');\n",
       "    const paramPrefix = toggleableContent ? toggleableContent.dataset.paramPrefix : '';\n",
       "    const paramName = element.parentElement.nextElementSibling.textContent.trim();\n",
       "    const fullParamName = paramPrefix ? `${paramPrefix}${paramName}` : paramName;\n",
       "\n",
       "    element.setAttribute('title', fullParamName);\n",
       "});\n",
       "</script></body>"
      ],
      "text/plain": [
       "LassoCV(alphas=array([0.0001    , 0.00010723, 0.00011498, 0.00012328, 0.00013219,\n",
       "       0.00014175, 0.00015199, 0.00016298, 0.00017475, 0.00018738,\n",
       "       0.00020092, 0.00021544, 0.00023101, 0.00024771, 0.00026561,\n",
       "       0.0002848 , 0.00030539, 0.00032745, 0.00035112, 0.00037649,\n",
       "       0.0004037 , 0.00043288, 0.00046416, 0.0004977 , 0.00053367,\n",
       "       0.00057224, 0.00061359, 0.00065793, 0.00070548, 0.00075646,\n",
       "       0.000...\n",
       "       0.00932603, 0.01      , 0.01072267, 0.01149757, 0.01232847,\n",
       "       0.01321941, 0.01417474, 0.01519911, 0.01629751, 0.01747528,\n",
       "       0.01873817, 0.02009233, 0.02154435, 0.0231013 , 0.02477076,\n",
       "       0.02656088, 0.02848036, 0.03053856, 0.03274549, 0.03511192,\n",
       "       0.03764936, 0.04037017, 0.04328761, 0.04641589, 0.04977024,\n",
       "       0.05336699, 0.05722368, 0.06135907, 0.06579332, 0.07054802,\n",
       "       0.07564633, 0.08111308, 0.0869749 , 0.09326033, 0.1       ]),\n",
       "        cv=5, max_iter=100000)"
      ]
     },
     "execution_count": 23,
     "metadata": {},
     "output_type": "execute_result"
    }
   ],
   "source": [
    "print('8-variable model parameter acc.t. backward stepwise: ', bestsub_backward[1][0])\n",
    "print('7-variable model parameter acc.t. backward stepwise: ', bestsub_backward[2][0])\n",
    "print('5-variable model parameter acc.t. backward stepwise: ', bestsub_backward[4][0])\n",
    "\n",
    "alphas = np.logspace(-4, -1, 100)\n",
    "lassocv = LassoCV(alphas=alphas, cv=5, max_iter=100000)\n",
    "\n",
    "lassocv.fit(scale(X), y)"
   ]
  },
  {
   "cell_type": "code",
   "execution_count": 24,
   "id": "a205ce95",
   "metadata": {},
   "outputs": [
    {
     "data": {
      "text/plain": [
       "np.float64(0.061359072734131756)"
      ]
     },
     "execution_count": 24,
     "metadata": {},
     "output_type": "execute_result"
    }
   ],
   "source": [
    "# optimal value of alpha\n",
    "lassocv.alpha_"
   ]
  },
  {
   "cell_type": "code",
   "execution_count": 25,
   "id": "efe7323b",
   "metadata": {},
   "outputs": [
    {
     "data": {
      "image/png": "[encoded data removed]",
      "text/plain": [
       "<Figure size 1000x500 with 1 Axes>"
      ]
     },
     "metadata": {},
     "output_type": "display_data"
    }
   ],
   "source": [
    "mses = np.mean(lassocv.mse_path_, axis=1)\n",
    "\n",
    "# Plot CV error vs alpha\n",
    "fig, ax = plt.subplots(figsize=(10,5));\n",
    "ax.plot(lassocv.alphas_,mses, color='b');\n",
    "ax.plot(lassocv.alpha_, np.min(mses), marker='o', color='r', markersize=8);\n",
    "ax.set_xlabel('alpha log-scale');\n",
    "ax.set_xscale('log')\n",
    "ax.set_ylabel('CV 5-Fold');"
   ]
  },
  {
   "cell_type": "code",
   "execution_count": null,
   "id": "7d629f3e",
   "metadata": {},
   "outputs": [
    {
     "data": {
      "text/plain": [
       "x1     -8.818816\n",
       "x2      3.878525\n",
       "x3     48.509026\n",
       "x4      0.000000\n",
       "x5      0.000000\n",
       "x6     -0.000000\n",
       "x7      0.000000\n",
       "x8     -0.000000\n",
       "x9      0.000000\n",
       "x10    -0.000000\n",
       "dtype: float64"
      ]
     },
     "execution_count": 26,
     "metadata": {},
     "output_type": "execute_result"
    }
   ],
   "source": [
    "pd.Series(lassocv.coef_.flatten(), index=X.columns) "
   ]
  },
  {
   "cell_type": "code",
   "execution_count": 27,
   "id": "7bc9b69e",
   "metadata": {},
   "outputs": [],
   "source": [
    "y2 = -4 + 7.25 * (x**7) + eps"
   ]
  },
  {
   "cell_type": "code",
   "execution_count": 28,
   "id": "c03bb38d",
   "metadata": {},
   "outputs": [
    {
     "name": "stderr",
     "output_type": "stream",
     "text": [
      "100%|██████████| 10/10 [00:02<00:00,  4.05it/s]\n"
     ]
    },
    {
     "data": {
      "text/html": [
       "<div>\n",
       "<style scoped>\n",
       "    .dataframe tbody tr th:only-of-type {\n",
       "        vertical-align: middle;\n",
       "    }\n",
       "\n",
       "    .dataframe tbody tr th {\n",
       "        vertical-align: top;\n",
       "    }\n",
       "\n",
       "    .dataframe thead th {\n",
       "        text-align: right;\n",
       "    }\n",
       "</style>\n",
       "<table border=\"1\" class=\"dataframe\">\n",
       "  <thead>\n",
       "    <tr style=\"text-align: right;\">\n",
       "      <th></th>\n",
       "      <th>sub</th>\n",
       "      <th>model</th>\n",
       "    </tr>\n",
       "  </thead>\n",
       "  <tbody>\n",
       "    <tr>\n",
       "      <th>0</th>\n",
       "      <td>[x7]</td>\n",
       "      <td>&lt;statsmodels.regression.linear_model.Regressio...</td>\n",
       "    </tr>\n",
       "    <tr>\n",
       "      <th>1</th>\n",
       "      <td>[x3, x7]</td>\n",
       "      <td>&lt;statsmodels.regression.linear_model.Regressio...</td>\n",
       "    </tr>\n",
       "    <tr>\n",
       "      <th>2</th>\n",
       "      <td>[x5, x7, x9]</td>\n",
       "      <td>&lt;statsmodels.regression.linear_model.Regressio...</td>\n",
       "    </tr>\n",
       "    <tr>\n",
       "      <th>3</th>\n",
       "      <td>[x3, x5, x7, x9]</td>\n",
       "      <td>&lt;statsmodels.regression.linear_model.Regressio...</td>\n",
       "    </tr>\n",
       "    <tr>\n",
       "      <th>4</th>\n",
       "      <td>[x3, x5, x6, x7, x9]</td>\n",
       "      <td>&lt;statsmodels.regression.linear_model.Regressio...</td>\n",
       "    </tr>\n",
       "    <tr>\n",
       "      <th>5</th>\n",
       "      <td>[x2, x3, x4, x5, x7, x9]</td>\n",
       "      <td>&lt;statsmodels.regression.linear_model.Regressio...</td>\n",
       "    </tr>\n",
       "    <tr>\n",
       "      <th>6</th>\n",
       "      <td>[x3, x5, x6, x7, x8, x9, x10]</td>\n",
       "      <td>&lt;statsmodels.regression.linear_model.Regressio...</td>\n",
       "    </tr>\n",
       "    <tr>\n",
       "      <th>7</th>\n",
       "      <td>[x1, x3, x5, x6, x7, x8, x9, x10]</td>\n",
       "      <td>&lt;statsmodels.regression.linear_model.Regressio...</td>\n",
       "    </tr>\n",
       "    <tr>\n",
       "      <th>8</th>\n",
       "      <td>[x2, x3, x4, x5, x6, x7, x8, x9, x10]</td>\n",
       "      <td>&lt;statsmodels.regression.linear_model.Regressio...</td>\n",
       "    </tr>\n",
       "    <tr>\n",
       "      <th>9</th>\n",
       "      <td>[x1, x2, x3, x4, x5, x6, x7, x8, x9, x10]</td>\n",
       "      <td>&lt;statsmodels.regression.linear_model.Regressio...</td>\n",
       "    </tr>\n",
       "  </tbody>\n",
       "</table>\n",
       "</div>"
      ],
      "text/plain": [
       "                                         sub  \\\n",
       "0                                       [x7]   \n",
       "1                                   [x3, x7]   \n",
       "2                               [x5, x7, x9]   \n",
       "3                           [x3, x5, x7, x9]   \n",
       "4                       [x3, x5, x6, x7, x9]   \n",
       "5                   [x2, x3, x4, x5, x7, x9]   \n",
       "6              [x3, x5, x6, x7, x8, x9, x10]   \n",
       "7          [x1, x3, x5, x6, x7, x8, x9, x10]   \n",
       "8      [x2, x3, x4, x5, x6, x7, x8, x9, x10]   \n",
       "9  [x1, x2, x3, x4, x5, x6, x7, x8, x9, x10]   \n",
       "\n",
       "                                               model  \n",
       "0  <statsmodels.regression.linear_model.Regressio...  \n",
       "1  <statsmodels.regression.linear_model.Regressio...  \n",
       "2  <statsmodels.regression.linear_model.Regressio...  \n",
       "3  <statsmodels.regression.linear_model.Regressio...  \n",
       "4  <statsmodels.regression.linear_model.Regressio...  \n",
       "5  <statsmodels.regression.linear_model.Regressio...  \n",
       "6  <statsmodels.regression.linear_model.Regressio...  \n",
       "7  <statsmodels.regression.linear_model.Regressio...  \n",
       "8  <statsmodels.regression.linear_model.Regressio...  \n",
       "9  <statsmodels.regression.linear_model.Regressio...  "
      ]
     },
     "execution_count": 28,
     "metadata": {},
     "output_type": "execute_result"
    }
   ],
   "source": [
    "bestsub2 = find_best_subset(X, y2, 10, 'poly_bestsub_2')\n",
    "bestsub2"
   ]
  },
  {
   "cell_type": "code",
   "execution_count": 29,
   "id": "c7902b8d",
   "metadata": {},
   "outputs": [
    {
     "data": {
      "text/plain": [
       "[<matplotlib.axis.XTick at 0x115abfdd450>,\n",
       " <matplotlib.axis.XTick at 0x115ac1cfb10>,\n",
       " <matplotlib.axis.XTick at 0x11591ce82d0>,\n",
       " <matplotlib.axis.XTick at 0x11591ce8a50>,\n",
       " <matplotlib.axis.XTick at 0x11591ce91d0>,\n",
       " <matplotlib.axis.XTick at 0x11591ce9950>,\n",
       " <matplotlib.axis.XTick at 0x11591cea0d0>,\n",
       " <matplotlib.axis.XTick at 0x11591cea850>,\n",
       " <matplotlib.axis.XTick at 0x11591ceafd0>,\n",
       " <matplotlib.axis.XTick at 0x11591ceb750>]"
      ]
     },
     "execution_count": 29,
     "metadata": {},
     "output_type": "execute_result"
    },
    {
     "data": {
      "image/png": "[encoded data removed]",
      "text/plain": [
       "<Figure size 1000x1000 with 4 Axes>"
      ]
     },
     "metadata": {},
     "output_type": "display_data"
    }
   ],
   "source": [
    "aic2 = [bestsub2.model[i].aic for i in range(0, len(bestsub2.model))]\n",
    "bic2 = [bestsub2.model[i].bic for i in range(0, len(bestsub2.model))]\n",
    "r2_adj2 = [bestsub2.model[i].rsquared_adj for i in range(0, len(bestsub2.model))]\n",
    "rss2 = [bestsub2.model[i].ssr for i in range(0, len(bestsub2.model))]\n",
    "\n",
    "fig, axes = plt.subplots(2, 2, sharex=False, sharey=False)\n",
    "fig.set_figheight(10)\n",
    "fig.set_figwidth(10)\n",
    "fig.supxlabel('Num of Features')\n",
    "\n",
    "fig.suptitle('Best Subset Selection Results')\n",
    "\n",
    "axes[0, 0].plot(rss2)\n",
    "axes[0, 0].set_title('RSS')\n",
    "axes[0, 0].set_xticks(np.arange(0, 10, 1))\n",
    "\n",
    "axes[0, 1].plot(r2_adj2, markevery=[np.argmax(r2_adj2)], marker='D')\n",
    "axes[0, 1].set_title('Adj R Squared')\n",
    "axes[0, 1].set_xticks(np.arange(0, 10, 1))\n",
    "\n",
    "axes[1, 0].plot(aic2, markevery=[np.argmin(aic2)], marker='D')\n",
    "axes[1, 0].set_title('AIC')\n",
    "axes[1, 0].set_xticks(np.arange(0, 10, 1))\n",
    "\n",
    "axes[1, 1].plot(bic2, markevery=[np.argmin(bic2)], marker='D')\n",
    "axes[1, 1].set_title('BIC')\n",
    "axes[1, 1].set_xticks(np.arange(0, 10, 1))"
   ]
  },
  {
   "cell_type": "code",
   "execution_count": 30,
   "id": "0b9a6668",
   "metadata": {},
   "outputs": [
    {
     "name": "stderr",
     "output_type": "stream",
     "text": [
      "C:\\Users\\anujb\\AppData\\Roaming\\Python\\Python313\\site-packages\\sklearn\\linear_model\\_coordinate_descent.py:1622: FutureWarning: 'n_alphas' was deprecated in 1.7 and will be removed in 1.9. 'alphas' now accepts an integer value which removes the need to pass 'n_alphas'. The default value of 'alphas' will change from None to 100 in 1.9. Pass an explicit value to 'alphas' and leave 'n_alphas' to its default value to silence this warning.\n",
      "  warnings.warn(\n"
     ]
    },
    {
     "data": {
      "text/plain": [
       "np.float64(1.2210192922875793)"
      ]
     },
     "execution_count": 30,
     "metadata": {},
     "output_type": "execute_result"
    }
   ],
   "source": [
    "np.random.seed(5)\n",
    "lassocv2 = LassoCV(n_alphas=400, cv=10, max_iter=10000)\n",
    "\n",
    "lassocv2.fit(scale(X), y2.ravel())\n",
    "\n",
    "# optimal value of alpha\n",
    "lassocv2.alpha_"
   ]
  },
  {
   "cell_type": "code",
   "execution_count": 31,
   "id": "c62f58b0",
   "metadata": {},
   "outputs": [
    {
     "data": {
      "image/png": "[encoded data removed]",
      "text/plain": [
       "<Figure size 1000x500 with 1 Axes>"
      ]
     },
     "metadata": {},
     "output_type": "display_data"
    }
   ],
   "source": [
    "mses = np.mean(lassocv2.mse_path_, axis=1)\n",
    "\n",
    "# Plot CV error vs alpha\n",
    "fig, ax = plt.subplots(figsize=(10,5));\n",
    "ax.plot(lassocv2.alphas_,mses, color='b');\n",
    "ax.plot(lassocv2.alpha_, np.min(mses), marker='o', color='r', markersize=8);\n",
    "ax.set_xlabel('alpha log-scale');\n",
    "ax.set_xscale('log')\n",
    "ax.set_ylabel('CV 5-Fold');"
   ]
  },
  {
   "cell_type": "code",
   "execution_count": 32,
   "id": "3633d146",
   "metadata": {},
   "outputs": [
    {
     "data": {
      "text/plain": [
       "x1       -0.000000\n",
       "x2        0.000000\n",
       "x3        0.000000\n",
       "x4        0.000000\n",
       "x5       59.222959\n",
       "x6        0.000000\n",
       "x7     1069.219682\n",
       "x8       -0.000000\n",
       "x9       93.073638\n",
       "x10      -0.000000\n",
       "dtype: float64"
      ]
     },
     "execution_count": 32,
     "metadata": {},
     "output_type": "execute_result"
    }
   ],
   "source": [
    "# Coefficient estimates of lasso model\n",
    "pd.Series(lassocv2.coef_.flatten(), index=X.columns)"
   ]
  },
  {
   "cell_type": "markdown",
   "id": "8cd25109",
   "metadata": {},
   "source": [
    "end of question #8"
   ]
  },
  {
   "cell_type": "code",
   "execution_count": 33,
   "id": "2e4aaaff",
   "metadata": {},
   "outputs": [
    {
     "name": "stdout",
     "output_type": "stream",
     "text": [
      "Ridge Regression:\n",
      "  MSE: 4.0953\n",
      "  R²: 0.6013\n",
      "\n",
      "Lasso Regression:\n",
      "  MSE: 4.4996\n",
      "  R²: 0.5620\n"
     ]
    }
   ],
   "source": [
    "import pandas as pd\n",
    "from sklearn.linear_model import RidgeCV, LassoCV\n",
    "from sklearn.preprocessing import StandardScaler, OneHotEncoder\n",
    "from sklearn.compose import ColumnTransformer\n",
    "from sklearn.pipeline import Pipeline\n",
    "from sklearn.model_selection import train_test_split\n",
    "from sklearn.metrics import mean_squared_error, r2_score\n",
    "\n",
    "# Load the dataset\n",
    "df = pd.read_csv(\"train.csv\")\n",
    "\n",
    "# Drop the 'id' column\n",
    "df = df.drop(columns=['id'])\n",
    "\n",
    "# Define features and target\n",
    "X = df.drop(columns=['Rings'])\n",
    "y = df['Rings']\n",
    "\n",
    "# Identify categorical and numerical columns\n",
    "categorical_features = ['Sex']\n",
    "numerical_features = X.drop(columns=categorical_features).columns.tolist()\n",
    "\n",
    "# Create preprocessing pipeline\n",
    "preprocessor = ColumnTransformer(\n",
    "    transformers=[\n",
    "        ('num', StandardScaler(), numerical_features),\n",
    "        ('cat', OneHotEncoder(drop='first'), categorical_features)\n",
    "    ]\n",
    ")\n",
    "\n",
    "# Split the data\n",
    "X_train, X_test, y_train, y_test = train_test_split(X, y, test_size=0.2, random_state=42)\n",
    "\n",
    "# Ridge Regression with cross-validation\n",
    "ridge_pipeline = Pipeline(steps=[\n",
    "    ('preprocessor', preprocessor),\n",
    "    ('regressor', RidgeCV(alphas=[0.1, 1.0, 10.0], cv=5))\n",
    "])\n",
    "ridge_pipeline.fit(X_train, y_train)\n",
    "ridge_preds = ridge_pipeline.predict(X_test)\n",
    "ridge_mse = mean_squared_error(y_test, ridge_preds)\n",
    "ridge_r2 = r2_score(y_test, ridge_preds)\n",
    "\n",
    "# Lasso Regression with cross-validation\n",
    "lasso_pipeline = Pipeline(steps=[\n",
    "    ('preprocessor', preprocessor),\n",
    "    ('regressor', LassoCV(alphas=[0.1, 1.0, 10.0], cv=5, max_iter=10000))\n",
    "])\n",
    "lasso_pipeline.fit(X_train, y_train)\n",
    "lasso_preds = lasso_pipeline.predict(X_test)\n",
    "lasso_mse = mean_squared_error(y_test, lasso_preds)\n",
    "lasso_r2 = r2_score(y_test, lasso_preds)\n",
    "\n",
    "# Print performance metrics\n",
    "print(\"Ridge Regression:\")\n",
    "print(f\"  MSE: {ridge_mse:.4f}\")\n",
    "print(f\"  R²: {ridge_r2:.4f}\")\n",
    "\n",
    "print(\"\\nLasso Regression:\")\n",
    "print(f\"  MSE: {lasso_mse:.4f}\")\n",
    "print(f\"  R²: {lasso_r2:.4f}\")\n"
   ]
  },
  {
   "cell_type": "code",
   "execution_count": 57,
   "id": "eedb55e9",
   "metadata": {},
   "outputs": [
    {
     "name": "stdout",
     "output_type": "stream",
     "text": [
      "Principal Components Regression:\n",
      "  MSE: 4.0953\n",
      "  R²: 0.6013\n"
     ]
    }
   ],
   "source": [
    "import pandas as pd\n",
    "from sklearn.decomposition import PCA\n",
    "from sklearn.linear_model import LinearRegression\n",
    "from sklearn.pipeline import Pipeline\n",
    "from sklearn.preprocessing import StandardScaler, OneHotEncoder\n",
    "from sklearn.compose import ColumnTransformer\n",
    "from sklearn.model_selection import train_test_split\n",
    "from sklearn.metrics import mean_squared_error, r2_score\n",
    "\n",
    "# Load the dataset\n",
    "df = pd.read_csv(\"train.csv\")\n",
    "\n",
    "# Drop the 'id' column\n",
    "df = df.drop(columns=['id'])\n",
    "\n",
    "# Define features and target\n",
    "X = df.drop(columns=['Rings'])\n",
    "y = df['Rings']\n",
    "\n",
    "# Identify categorical and numerical columns\n",
    "categorical_features = ['Sex']\n",
    "numerical_features = X.drop(columns=categorical_features).columns.tolist()\n",
    "\n",
    "# Create preprocessing pipeline\n",
    "preprocessor = ColumnTransformer(\n",
    "    transformers=[\n",
    "        ('num', StandardScaler(), numerical_features),\n",
    "        ('cat', OneHotEncoder(drop='first'), categorical_features)\n",
    "    ]\n",
    ")\n",
    "\n",
    "# Split the data\n",
    "X_train, X_test, y_train, y_test = train_test_split(X, y, test_size=0.2, random_state=42)\n",
    "\n",
    "# Build the Principal Components Regression pipeline with n_components=9\n",
    "pcr_pipeline = Pipeline(steps=[\n",
    "    ('preprocessor', preprocessor),\n",
    "    ('pca', PCA(n_components=9)),\n",
    "    ('regressor', LinearRegression())\n",
    "])\n",
    "\n",
    "# Fit the model\n",
    "pcr_pipeline.fit(X_train, y_train)\n",
    "\n",
    "# Predict and evaluate\n",
    "y_pred = pcr_pipeline.predict(X_test)\n",
    "mse = mean_squared_error(y_test, y_pred)\n",
    "r2 = r2_score(y_test, y_pred)\n",
    "\n",
    "# Print performance metrics\n",
    "print(\"Principal Components Regression:\")\n",
    "print(f\"  MSE: {mse:.4f}\")\n",
    "print(f\"  R²: {r2:.4f}\")\n"
   ]
  },
  {
   "cell_type": "code",
   "execution_count": 75,
   "id": "c33bc477",
   "metadata": {},
   "outputs": [],
   "source": [
    "test_data = pd.read_csv(\"./test.csv\")\n",
    "test_preds = lasso_pipeline.predict(test_data)"
   ]
  },
  {
   "cell_type": "code",
   "execution_count": 76,
   "id": "debbdcd3",
   "metadata": {},
   "outputs": [],
   "source": [
    "#Create a submission file in the required format:\n",
    "submission = pd.DataFrame({'id': test_data['id'], 'Rings': test_preds})\n",
    "submission.to_csv('submission.csv', index=False)\n"
   ]
  },
  {
   "cell_type": "code",
   "execution_count": 37,
   "id": "e697ebc5",
   "metadata": {},
   "outputs": [
    {
     "data": {
      "application/vnd.plotly.v1+json": {
       "config": {
        "plotlyServerURL": "https://plot.ly"
       },
       "data": [
        {
         "alignmentgroup": "True",
         "hovertemplate": "Metric=MSE<br>Model=%{x}<br>Score=%{y}<extra></extra>",
         "legendgroup": "MSE",
         "marker": {
          "color": "#636efa",
          "pattern": {
           "shape": ""
          }
         },
         "name": "MSE",
         "offsetgroup": "MSE",
         "orientation": "v",
         "showlegend": true,
         "textposition": "auto",
         "type": "bar",
         "x": [
          "Ridge",
          "Lasso",
          "PCR"
         ],
         "xaxis": "x",
         "y": {
          "bdata": "rj/y+p5hEECvHHxMlf8RQDcVfEGcYRBA",
          "dtype": "f8"
         },
         "yaxis": "y"
        },
        {
         "alignmentgroup": "True",
         "hovertemplate": "Metric=R2<br>Model=%{x}<br>Score=%{y}<extra></extra>",
         "legendgroup": "R2",
         "marker": {
          "color": "#EF553B",
          "pattern": {
           "shape": ""
          }
         },
         "name": "R2",
         "offsetgroup": "R2",
         "orientation": "v",
         "showlegend": true,
         "textposition": "auto",
         "type": "bar",
         "x": [
          "Ridge",
          "Lasso",
          "PCR"
         ],
         "xaxis": "x",
         "y": {
          "bdata": "In0rng0+4z+EZT72qfvhP4RuWL0PPuM/",
          "dtype": "f8"
         },
         "yaxis": "y"
        }
       ],
       "layout": {
        "barmode": "group",
        "legend": {
         "title": {
          "text": "Metric"
         },
         "tracegroupgap": 0
        },
        "template": {
         "data": {
          "bar": [
           {
            "error_x": {
             "color": "#2a3f5f"
            },
            "error_y": {
             "color": "#2a3f5f"
            },
            "marker": {
             "line": {
              "color": "#E5ECF6",
              "width": 0.5
             },
             "pattern": {
              "fillmode": "overlay",
              "size": 10,
              "solidity": 0.2
             }
            },
            "type": "bar"
           }
          ],
          "barpolar": [
           {
            "marker": {
             "line": {
              "color": "#E5ECF6",
              "width": 0.5
             },
             "pattern": {
              "fillmode": "overlay",
              "size": 10,
              "solidity": 0.2
             }
            },
            "type": "barpolar"
           }
          ],
          "carpet": [
           {
            "aaxis": {
             "endlinecolor": "#2a3f5f",
             "gridcolor": "white",
             "linecolor": "white",
             "minorgridcolor": "white",
             "startlinecolor": "#2a3f5f"
            },
            "baxis": {
             "endlinecolor": "#2a3f5f",
             "gridcolor": "white",
             "linecolor": "white",
             "minorgridcolor": "white",
             "startlinecolor": "#2a3f5f"
            },
            "type": "carpet"
           }
          ],
          "choropleth": [
           {
            "colorbar": {
             "outlinewidth": 0,
             "ticks": ""
            },
            "type": "choropleth"
           }
          ],
          "contour": [
           {
            "colorbar": {
             "outlinewidth": 0,
             "ticks": ""
            },
            "colorscale": [
             [
              0,
              "#0d0887"
             ],
             [
              0.1111111111111111,
              "#46039f"
             ],
             [
              0.2222222222222222,
              "#7201a8"
             ],
             [
              0.3333333333333333,
              "#9c179e"
             ],
             [
              0.4444444444444444,
              "#bd3786"
             ],
             [
              0.5555555555555556,
              "#d8576b"
             ],
             [
              0.6666666666666666,
              "#ed7953"
             ],
             [
              0.7777777777777778,
              "#fb9f3a"
             ],
             [
              0.8888888888888888,
              "#fdca26"
             ],
             [
              1,
              "#f0f921"
             ]
            ],
            "type": "contour"
           }
          ],
          "contourcarpet": [
           {
            "colorbar": {
             "outlinewidth": 0,
             "ticks": ""
            },
            "type": "contourcarpet"
           }
          ],
          "heatmap": [
           {
            "colorbar": {
             "outlinewidth": 0,
             "ticks": ""
            },
            "colorscale": [
             [
              0,
              "#0d0887"
             ],
             [
              0.1111111111111111,
              "#46039f"
             ],
             [
              0.2222222222222222,
              "#7201a8"
             ],
             [
              0.3333333333333333,
              "#9c179e"
             ],
             [
              0.4444444444444444,
              "#bd3786"
             ],
             [
              0.5555555555555556,
              "#d8576b"
             ],
             [
              0.6666666666666666,
              "#ed7953"
             ],
             [
              0.7777777777777778,
              "#fb9f3a"
             ],
             [
              0.8888888888888888,
              "#fdca26"
             ],
             [
              1,
              "#f0f921"
             ]
            ],
            "type": "heatmap"
           }
          ],
          "histogram": [
           {
            "marker": {
             "pattern": {
              "fillmode": "overlay",
              "size": 10,
              "solidity": 0.2
             }
            },
            "type": "histogram"
           }
          ],
          "histogram2d": [
           {
            "colorbar": {
             "outlinewidth": 0,
             "ticks": ""
            },
            "colorscale": [
             [
              0,
              "#0d0887"
             ],
             [
              0.1111111111111111,
              "#46039f"
             ],
             [
              0.2222222222222222,
              "#7201a8"
             ],
             [
              0.3333333333333333,
              "#9c179e"
             ],
             [
              0.4444444444444444,
              "#bd3786"
             ],
             [
              0.5555555555555556,
              "#d8576b"
             ],
             [
              0.6666666666666666,
              "#ed7953"
             ],
             [
              0.7777777777777778,
              "#fb9f3a"
             ],
             [
              0.8888888888888888,
              "#fdca26"
             ],
             [
              1,
              "#f0f921"
             ]
            ],
            "type": "histogram2d"
           }
          ],
          "histogram2dcontour": [
           {
            "colorbar": {
             "outlinewidth": 0,
             "ticks": ""
            },
            "colorscale": [
             [
              0,
              "#0d0887"
             ],
             [
              0.1111111111111111,
              "#46039f"
             ],
             [
              0.2222222222222222,
              "#7201a8"
             ],
             [
              0.3333333333333333,
              "#9c179e"
             ],
             [
              0.4444444444444444,
              "#bd3786"
             ],
             [
              0.5555555555555556,
              "#d8576b"
             ],
             [
              0.6666666666666666,
              "#ed7953"
             ],
             [
              0.7777777777777778,
              "#fb9f3a"
             ],
             [
              0.8888888888888888,
              "#fdca26"
             ],
             [
              1,
              "#f0f921"
             ]
            ],
            "type": "histogram2dcontour"
           }
          ],
          "mesh3d": [
           {
            "colorbar": {
             "outlinewidth": 0,
             "ticks": ""
            },
            "type": "mesh3d"
           }
          ],
          "parcoords": [
           {
            "line": {
             "colorbar": {
              "outlinewidth": 0,
              "ticks": ""
             }
            },
            "type": "parcoords"
           }
          ],
          "pie": [
           {
            "automargin": true,
            "type": "pie"
           }
          ],
          "scatter": [
           {
            "fillpattern": {
             "fillmode": "overlay",
             "size": 10,
             "solidity": 0.2
            },
            "type": "scatter"
           }
          ],
          "scatter3d": [
           {
            "line": {
             "colorbar": {
              "outlinewidth": 0,
              "ticks": ""
             }
            },
            "marker": {
             "colorbar": {
              "outlinewidth": 0,
              "ticks": ""
             }
            },
            "type": "scatter3d"
           }
          ],
          "scattercarpet": [
           {
            "marker": {
             "colorbar": {
              "outlinewidth": 0,
              "ticks": ""
             }
            },
            "type": "scattercarpet"
           }
          ],
          "scattergeo": [
           {
            "marker": {
             "colorbar": {
              "outlinewidth": 0,
              "ticks": ""
             }
            },
            "type": "scattergeo"
           }
          ],
          "scattergl": [
           {
            "marker": {
             "colorbar": {
              "outlinewidth": 0,
              "ticks": ""
             }
            },
            "type": "scattergl"
           }
          ],
          "scattermap": [
           {
            "marker": {
             "colorbar": {
              "outlinewidth": 0,
              "ticks": ""
             }
            },
            "type": "scattermap"
           }
          ],
          "scattermapbox": [
           {
            "marker": {
             "colorbar": {
              "outlinewidth": 0,
              "ticks": ""
             }
            },
            "type": "scattermapbox"
           }
          ],
          "scatterpolar": [
           {
            "marker": {
             "colorbar": {
              "outlinewidth": 0,
              "ticks": ""
             }
            },
            "type": "scatterpolar"
           }
          ],
          "scatterpolargl": [
           {
            "marker": {
             "colorbar": {
              "outlinewidth": 0,
              "ticks": ""
             }
            },
            "type": "scatterpolargl"
           }
          ],
          "scatterternary": [
           {
            "marker": {
             "colorbar": {
              "outlinewidth": 0,
              "ticks": ""
             }
            },
            "type": "scatterternary"
           }
          ],
          "surface": [
           {
            "colorbar": {
             "outlinewidth": 0,
             "ticks": ""
            },
            "colorscale": [
             [
              0,
              "#0d0887"
             ],
             [
              0.1111111111111111,
              "#46039f"
             ],
             [
              0.2222222222222222,
              "#7201a8"
             ],
             [
              0.3333333333333333,
              "#9c179e"
             ],
             [
              0.4444444444444444,
              "#bd3786"
             ],
             [
              0.5555555555555556,
              "#d8576b"
             ],
             [
              0.6666666666666666,
              "#ed7953"
             ],
             [
              0.7777777777777778,
              "#fb9f3a"
             ],
             [
              0.8888888888888888,
              "#fdca26"
             ],
             [
              1,
              "#f0f921"
             ]
            ],
            "type": "surface"
           }
          ],
          "table": [
           {
            "cells": {
             "fill": {
              "color": "#EBF0F8"
             },
             "line": {
              "color": "white"
             }
            },
            "header": {
             "fill": {
              "color": "#C8D4E3"
             },
             "line": {
              "color": "white"
             }
            },
            "type": "table"
           }
          ]
         },
         "layout": {
          "annotationdefaults": {
           "arrowcolor": "#2a3f5f",
           "arrowhead": 0,
           "arrowwidth": 1
          },
          "autotypenumbers": "strict",
          "coloraxis": {
           "colorbar": {
            "outlinewidth": 0,
            "ticks": ""
           }
          },
          "colorscale": {
           "diverging": [
            [
             0,
             "#8e0152"
            ],
            [
             0.1,
             "#c51b7d"
            ],
            [
             0.2,
             "#de77ae"
            ],
            [
             0.3,
             "#f1b6da"
            ],
            [
             0.4,
             "#fde0ef"
            ],
            [
             0.5,
             "#f7f7f7"
            ],
            [
             0.6,
             "#e6f5d0"
            ],
            [
             0.7,
             "#b8e186"
            ],
            [
             0.8,
             "#7fbc41"
            ],
            [
             0.9,
             "#4d9221"
            ],
            [
             1,
             "#276419"
            ]
           ],
           "sequential": [
            [
             0,
             "#0d0887"
            ],
            [
             0.1111111111111111,
             "#46039f"
            ],
            [
             0.2222222222222222,
             "#7201a8"
            ],
            [
             0.3333333333333333,
             "#9c179e"
            ],
            [
             0.4444444444444444,
             "#bd3786"
            ],
            [
             0.5555555555555556,
             "#d8576b"
            ],
            [
             0.6666666666666666,
             "#ed7953"
            ],
            [
             0.7777777777777778,
             "#fb9f3a"
            ],
            [
             0.8888888888888888,
             "#fdca26"
            ],
            [
             1,
             "#f0f921"
            ]
           ],
           "sequentialminus": [
            [
             0,
             "#0d0887"
            ],
            [
             0.1111111111111111,
             "#46039f"
            ],
            [
             0.2222222222222222,
             "#7201a8"
            ],
            [
             0.3333333333333333,
             "#9c179e"
            ],
            [
             0.4444444444444444,
             "#bd3786"
            ],
            [
             0.5555555555555556,
             "#d8576b"
            ],
            [
             0.6666666666666666,
             "#ed7953"
            ],
            [
             0.7777777777777778,
             "#fb9f3a"
            ],
            [
             0.8888888888888888,
             "#fdca26"
            ],
            [
             1,
             "#f0f921"
            ]
           ]
          },
          "colorway": [
           "#636efa",
           "#EF553B",
           "#00cc96",
           "#ab63fa",
           "#FFA15A",
           "#19d3f3",
           "#FF6692",
           "#B6E880",
           "#FF97FF",
           "#FECB52"
          ],
          "font": {
           "color": "#2a3f5f"
          },
          "geo": {
           "bgcolor": "white",
           "lakecolor": "white",
           "landcolor": "#E5ECF6",
           "showlakes": true,
           "showland": true,
           "subunitcolor": "white"
          },
          "hoverlabel": {
           "align": "left"
          },
          "hovermode": "closest",
          "mapbox": {
           "style": "light"
          },
          "paper_bgcolor": "white",
          "plot_bgcolor": "#E5ECF6",
          "polar": {
           "angularaxis": {
            "gridcolor": "white",
            "linecolor": "white",
            "ticks": ""
           },
           "bgcolor": "#E5ECF6",
           "radialaxis": {
            "gridcolor": "white",
            "linecolor": "white",
            "ticks": ""
           }
          },
          "scene": {
           "xaxis": {
            "backgroundcolor": "#E5ECF6",
            "gridcolor": "white",
            "gridwidth": 2,
            "linecolor": "white",
            "showbackground": true,
            "ticks": "",
            "zerolinecolor": "white"
           },
           "yaxis": {
            "backgroundcolor": "#E5ECF6",
            "gridcolor": "white",
            "gridwidth": 2,
            "linecolor": "white",
            "showbackground": true,
            "ticks": "",
            "zerolinecolor": "white"
           },
           "zaxis": {
            "backgroundcolor": "#E5ECF6",
            "gridcolor": "white",
            "gridwidth": 2,
            "linecolor": "white",
            "showbackground": true,
            "ticks": "",
            "zerolinecolor": "white"
           }
          },
          "shapedefaults": {
           "line": {
            "color": "#2a3f5f"
           }
          },
          "ternary": {
           "aaxis": {
            "gridcolor": "white",
            "linecolor": "white",
            "ticks": ""
           },
           "baxis": {
            "gridcolor": "white",
            "linecolor": "white",
            "ticks": ""
           },
           "bgcolor": "#E5ECF6",
           "caxis": {
            "gridcolor": "white",
            "linecolor": "white",
            "ticks": ""
           }
          },
          "title": {
           "x": 0.05
          },
          "xaxis": {
           "automargin": true,
           "gridcolor": "white",
           "linecolor": "white",
           "ticks": "",
           "title": {
            "standoff": 15
           },
           "zerolinecolor": "white",
           "zerolinewidth": 2
          },
          "yaxis": {
           "automargin": true,
           "gridcolor": "white",
           "linecolor": "white",
           "ticks": "",
           "title": {
            "standoff": 15
           },
           "zerolinecolor": "white",
           "zerolinewidth": 2
          }
         }
        },
        "title": {
         "text": "Model Performance Comparison"
        },
        "xaxis": {
         "anchor": "y",
         "domain": [
          0,
          1
         ],
         "title": {
          "text": "Model"
         }
        },
        "yaxis": {
         "anchor": "x",
         "domain": [
          0,
          1
         ],
         "title": {
          "text": "Score"
         }
        }
       }
      }
     },
     "metadata": {},
     "output_type": "display_data"
    }
   ],
   "source": [
    "import pandas as pd\n",
    "import plotly.express as px\n",
    "import plotly.graph_objects as go\n",
    "from sklearn.decomposition import PCA\n",
    "from sklearn.linear_model import RidgeCV, LassoCV, LinearRegression\n",
    "from sklearn.pipeline import Pipeline\n",
    "from sklearn.preprocessing import StandardScaler, OneHotEncoder\n",
    "from sklearn.compose import ColumnTransformer\n",
    "from sklearn.model_selection import train_test_split\n",
    "from sklearn.metrics import mean_squared_error, r2_score\n",
    "\n",
    "# Load and prepare the dataset\n",
    "df = pd.read_csv(\"train.csv\")\n",
    "df = df.drop(columns=['id'])\n",
    "X = df.drop(columns=['Rings'])\n",
    "y = df['Rings']\n",
    "\n",
    "# Identify feature types\n",
    "categorical_features = ['Sex']\n",
    "numerical_features = X.drop(columns=categorical_features).columns.tolist()\n",
    "\n",
    "# Preprocessing pipeline\n",
    "preprocessor = ColumnTransformer([\n",
    "    ('num', StandardScaler(), numerical_features),\n",
    "    ('cat', OneHotEncoder(drop='first'), categorical_features)\n",
    "])\n",
    "\n",
    "# Train-test split\n",
    "X_train, X_test, y_train, y_test = train_test_split(X, y, test_size=0.2, random_state=42)\n",
    "\n",
    "# Ridge Regression\n",
    "ridge_pipeline = Pipeline([\n",
    "    ('preprocessor', preprocessor),\n",
    "    ('regressor', RidgeCV(alphas=[0.1, 1.0, 10.0], cv=5))\n",
    "])\n",
    "ridge_pipeline.fit(X_train, y_train)\n",
    "ridge_preds = ridge_pipeline.predict(X_test)\n",
    "ridge_mse = mean_squared_error(y_test, ridge_preds)\n",
    "ridge_r2 = r2_score(y_test, ridge_preds)\n",
    "\n",
    "# Lasso Regression\n",
    "lasso_pipeline = Pipeline([\n",
    "    ('preprocessor', preprocessor),\n",
    "    ('regressor', LassoCV(alphas=[0.1, 1.0, 10.0], cv=5, max_iter=10000))\n",
    "])\n",
    "lasso_pipeline.fit(X_train, y_train)\n",
    "lasso_preds = lasso_pipeline.predict(X_test)\n",
    "lasso_mse = mean_squared_error(y_test, lasso_preds)\n",
    "lasso_r2 = r2_score(y_test, lasso_preds)\n",
    "\n",
    "# Principal Components Regression\n",
    "pcr_pipeline = Pipeline([\n",
    "    ('preprocessor', preprocessor),\n",
    "    ('pca', PCA(n_components=9)),\n",
    "    ('regressor', LinearRegression())\n",
    "])\n",
    "pcr_pipeline.fit(X_train, y_train)\n",
    "pcr_preds = pcr_pipeline.predict(X_test)\n",
    "pcr_mse = mean_squared_error(y_test, pcr_preds)\n",
    "pcr_r2 = r2_score(y_test, pcr_preds)\n",
    "\n",
    "# Scatter plot: Predicted vs Actual\n",
    "fig_scatter = go.Figure()\n",
    "fig_scatter.add_trace(go.Scatter(x=y_test, y=ridge_preds, mode='markers', name='Ridge'))\n",
    "fig_scatter.add_trace(go.Scatter(x=y_test, y=lasso_preds, mode='markers', name='Lasso'))\n",
    "fig_scatter.add_trace(go.Scatter(x=y_test, y=pcr_preds, mode='markers', name='PCR'))\n",
    "fig_scatter.update_layout(title='Predicted vs Actual Values',\n",
    "                          xaxis_title='Actual Rings',\n",
    "                          yaxis_title='Predicted Rings')\n",
    "\n",
    "# Bar chart: MSE and R² comparison\n",
    "metrics_df = pd.DataFrame({\n",
    "    'Model': ['Ridge', 'Lasso', 'PCR'],\n",
    "    'MSE': [ridge_mse, lasso_mse, pcr_mse],\n",
    "    'R2': [ridge_r2, lasso_r2, pcr_r2]\n",
    "})\n",
    "\n",
    "fig_bar = px.bar(metrics_df.melt(id_vars='Model'), x='Model', y='value',\n",
    "                 color='variable', barmode='group',\n",
    "                 title='Model Performance Comparison',\n",
    "                 labels={'value': 'Score', 'variable': 'Metric'})\n",
    "\n",
    "# Show plots\n",
    "\n",
    "fig_bar.show()\n"
   ]
  },
  {
   "cell_type": "code",
   "execution_count": 39,
   "id": "f5b0819d",
   "metadata": {},
   "outputs": [
    {
     "data": {
      "application/vnd.plotly.v1+json": {
       "config": {
        "plotlyServerURL": "https://plot.ly"
       },
       "data": [
        {
         "coloraxis": "coloraxis",
         "hovertemplate": "x: %{x}<br>y: %{y}<br>color: %{z}<extra></extra>",
         "name": "0",
         "texttemplate": "%{z}",
         "type": "heatmap",
         "x": [
          "Length",
          "Diameter",
          "Height",
          "Whole weight",
          "Whole weight.1",
          "Whole weight.2",
          "Shell weight",
          "Rings"
         ],
         "xaxis": "x",
         "y": [
          "Length",
          "Diameter",
          "Height",
          "Whole weight",
          "Whole weight.1",
          "Whole weight.2",
          "Shell weight",
          "Rings"
         ],
         "yaxis": "y",
         "z": {
          "bdata": "AAAAAAAA8D8uSaHI4avvPxnwy3OkUO0/h7ZFXG3O7T9ILhZehBvtP4uaBJZlOO0/nYzZFIMn7T8xuqhaDfbjPy5Jocjhq+8/AAAAAAAA8D9Mh40Ygm3tP0cw7lkU4u0/VhaANycS7T+o1IXT9ETtP7p0YLozX+0/4ACkNu5g5D8Z8MtzpFDtP0yHjRiCbe0/AAAAAAAA8D9WmqzPAODsPxxM/pGbk+s/v444eDBb7D/E4pGEuO3sP16wbqoATuU/h7ZFXG3O7T9HMO5ZFOLtP1aarM8A4Ow/AAAAAAAA8D8lCZtAeBTvPy3Qs8efLe8/JK3pprva7j8ipqYvtcDjP0guFl6EG+0/VhaANycS7T8cTP6Rm5PrPyUJm0B4FO8/AAAAAAAA8D9CR0TxEGDuP2DSTAN4Le0/sVNHYm174D+LmgSWZTjtP6jUhdP0RO0/v444eDBb7D8t0LPHny3vP0JHRPEQYO4/AAAAAAAA8D/lGenLd/ztPzenG8222OI/nYzZFIMn7T+6dGC6M1/tP8TikYS47ew/JK3pprva7j9g0kwDeC3tP+UZ6ct3/O0/AAAAAAAA8D/H2NwIhTvmPzG6qFoN9uM/4ACkNu5g5D9esG6qAE7lPyKmpi+1wOM/sVNHYm174D83pxvNttjiP8fY3AiFO+Y/AAAAAAAA8D8=",
          "dtype": "f8",
          "shape": "8, 8"
         }
        }
       ],
       "layout": {
        "coloraxis": {
         "colorscale": [
          [
           0,
           "rgb(103,0,31)"
          ],
          [
           0.1,
           "rgb(178,24,43)"
          ],
          [
           0.2,
           "rgb(214,96,77)"
          ],
          [
           0.3,
           "rgb(244,165,130)"
          ],
          [
           0.4,
           "rgb(253,219,199)"
          ],
          [
           0.5,
           "rgb(247,247,247)"
          ],
          [
           0.6,
           "rgb(209,229,240)"
          ],
          [
           0.7,
           "rgb(146,197,222)"
          ],
          [
           0.8,
           "rgb(67,147,195)"
          ],
          [
           0.9,
           "rgb(33,102,172)"
          ],
          [
           1,
           "rgb(5,48,97)"
          ]
         ]
        },
        "template": {
         "data": {
          "bar": [
           {
            "error_x": {
             "color": "#2a3f5f"
            },
            "error_y": {
             "color": "#2a3f5f"
            },
            "marker": {
             "line": {
              "color": "#E5ECF6",
              "width": 0.5
             },
             "pattern": {
              "fillmode": "overlay",
              "size": 10,
              "solidity": 0.2
             }
            },
            "type": "bar"
           }
          ],
          "barpolar": [
           {
            "marker": {
             "line": {
              "color": "#E5ECF6",
              "width": 0.5
             },
             "pattern": {
              "fillmode": "overlay",
              "size": 10,
              "solidity": 0.2
             }
            },
            "type": "barpolar"
           }
          ],
          "carpet": [
           {
            "aaxis": {
             "endlinecolor": "#2a3f5f",
             "gridcolor": "white",
             "linecolor": "white",
             "minorgridcolor": "white",
             "startlinecolor": "#2a3f5f"
            },
            "baxis": {
             "endlinecolor": "#2a3f5f",
             "gridcolor": "white",
             "linecolor": "white",
             "minorgridcolor": "white",
             "startlinecolor": "#2a3f5f"
            },
            "type": "carpet"
           }
          ],
          "choropleth": [
           {
            "colorbar": {
             "outlinewidth": 0,
             "ticks": ""
            },
            "type": "choropleth"
           }
          ],
          "contour": [
           {
            "colorbar": {
             "outlinewidth": 0,
             "ticks": ""
            },
            "colorscale": [
             [
              0,
              "#0d0887"
             ],
             [
              0.1111111111111111,
              "#46039f"
             ],
             [
              0.2222222222222222,
              "#7201a8"
             ],
             [
              0.3333333333333333,
              "#9c179e"
             ],
             [
              0.4444444444444444,
              "#bd3786"
             ],
             [
              0.5555555555555556,
              "#d8576b"
             ],
             [
              0.6666666666666666,
              "#ed7953"
             ],
             [
              0.7777777777777778,
              "#fb9f3a"
             ],
             [
              0.8888888888888888,
              "#fdca26"
             ],
             [
              1,
              "#f0f921"
             ]
            ],
            "type": "contour"
           }
          ],
          "contourcarpet": [
           {
            "colorbar": {
             "outlinewidth": 0,
             "ticks": ""
            },
            "type": "contourcarpet"
           }
          ],
          "heatmap": [
           {
            "colorbar": {
             "outlinewidth": 0,
             "ticks": ""
            },
            "colorscale": [
             [
              0,
              "#0d0887"
             ],
             [
              0.1111111111111111,
              "#46039f"
             ],
             [
              0.2222222222222222,
              "#7201a8"
             ],
             [
              0.3333333333333333,
              "#9c179e"
             ],
             [
              0.4444444444444444,
              "#bd3786"
             ],
             [
              0.5555555555555556,
              "#d8576b"
             ],
             [
              0.6666666666666666,
              "#ed7953"
             ],
             [
              0.7777777777777778,
              "#fb9f3a"
             ],
             [
              0.8888888888888888,
              "#fdca26"
             ],
             [
              1,
              "#f0f921"
             ]
            ],
            "type": "heatmap"
           }
          ],
          "histogram": [
           {
            "marker": {
             "pattern": {
              "fillmode": "overlay",
              "size": 10,
              "solidity": 0.2
             }
            },
            "type": "histogram"
           }
          ],
          "histogram2d": [
           {
            "colorbar": {
             "outlinewidth": 0,
             "ticks": ""
            },
            "colorscale": [
             [
              0,
              "#0d0887"
             ],
             [
              0.1111111111111111,
              "#46039f"
             ],
             [
              0.2222222222222222,
              "#7201a8"
             ],
             [
              0.3333333333333333,
              "#9c179e"
             ],
             [
              0.4444444444444444,
              "#bd3786"
             ],
             [
              0.5555555555555556,
              "#d8576b"
             ],
             [
              0.6666666666666666,
              "#ed7953"
             ],
             [
              0.7777777777777778,
              "#fb9f3a"
             ],
             [
              0.8888888888888888,
              "#fdca26"
             ],
             [
              1,
              "#f0f921"
             ]
            ],
            "type": "histogram2d"
           }
          ],
          "histogram2dcontour": [
           {
            "colorbar": {
             "outlinewidth": 0,
             "ticks": ""
            },
            "colorscale": [
             [
              0,
              "#0d0887"
             ],
             [
              0.1111111111111111,
              "#46039f"
             ],
             [
              0.2222222222222222,
              "#7201a8"
             ],
             [
              0.3333333333333333,
              "#9c179e"
             ],
             [
              0.4444444444444444,
              "#bd3786"
             ],
             [
              0.5555555555555556,
              "#d8576b"
             ],
             [
              0.6666666666666666,
              "#ed7953"
             ],
             [
              0.7777777777777778,
              "#fb9f3a"
             ],
             [
              0.8888888888888888,
              "#fdca26"
             ],
             [
              1,
              "#f0f921"
             ]
            ],
            "type": "histogram2dcontour"
           }
          ],
          "mesh3d": [
           {
            "colorbar": {
             "outlinewidth": 0,
             "ticks": ""
            },
            "type": "mesh3d"
           }
          ],
          "parcoords": [
           {
            "line": {
             "colorbar": {
              "outlinewidth": 0,
              "ticks": ""
             }
            },
            "type": "parcoords"
           }
          ],
          "pie": [
           {
            "automargin": true,
            "type": "pie"
           }
          ],
          "scatter": [
           {
            "fillpattern": {
             "fillmode": "overlay",
             "size": 10,
             "solidity": 0.2
            },
            "type": "scatter"
           }
          ],
          "scatter3d": [
           {
            "line": {
             "colorbar": {
              "outlinewidth": 0,
              "ticks": ""
             }
            },
            "marker": {
             "colorbar": {
              "outlinewidth": 0,
              "ticks": ""
             }
            },
            "type": "scatter3d"
           }
          ],
          "scattercarpet": [
           {
            "marker": {
             "colorbar": {
              "outlinewidth": 0,
              "ticks": ""
             }
            },
            "type": "scattercarpet"
           }
          ],
          "scattergeo": [
           {
            "marker": {
             "colorbar": {
              "outlinewidth": 0,
              "ticks": ""
             }
            },
            "type": "scattergeo"
           }
          ],
          "scattergl": [
           {
            "marker": {
             "colorbar": {
              "outlinewidth": 0,
              "ticks": ""
             }
            },
            "type": "scattergl"
           }
          ],
          "scattermap": [
           {
            "marker": {
             "colorbar": {
              "outlinewidth": 0,
              "ticks": ""
             }
            },
            "type": "scattermap"
           }
          ],
          "scattermapbox": [
           {
            "marker": {
             "colorbar": {
              "outlinewidth": 0,
              "ticks": ""
             }
            },
            "type": "scattermapbox"
           }
          ],
          "scatterpolar": [
           {
            "marker": {
             "colorbar": {
              "outlinewidth": 0,
              "ticks": ""
             }
            },
            "type": "scatterpolar"
           }
          ],
          "scatterpolargl": [
           {
            "marker": {
             "colorbar": {
              "outlinewidth": 0,
              "ticks": ""
             }
            },
            "type": "scatterpolargl"
           }
          ],
          "scatterternary": [
           {
            "marker": {
             "colorbar": {
              "outlinewidth": 0,
              "ticks": ""
             }
            },
            "type": "scatterternary"
           }
          ],
          "surface": [
           {
            "colorbar": {
             "outlinewidth": 0,
             "ticks": ""
            },
            "colorscale": [
             [
              0,
              "#0d0887"
             ],
             [
              0.1111111111111111,
              "#46039f"
             ],
             [
              0.2222222222222222,
              "#7201a8"
             ],
             [
              0.3333333333333333,
              "#9c179e"
             ],
             [
              0.4444444444444444,
              "#bd3786"
             ],
             [
              0.5555555555555556,
              "#d8576b"
             ],
             [
              0.6666666666666666,
              "#ed7953"
             ],
             [
              0.7777777777777778,
              "#fb9f3a"
             ],
             [
              0.8888888888888888,
              "#fdca26"
             ],
             [
              1,
              "#f0f921"
             ]
            ],
            "type": "surface"
           }
          ],
          "table": [
           {
            "cells": {
             "fill": {
              "color": "#EBF0F8"
             },
             "line": {
              "color": "white"
             }
            },
            "header": {
             "fill": {
              "color": "#C8D4E3"
             },
             "line": {
              "color": "white"
             }
            },
            "type": "table"
           }
          ]
         },
         "layout": {
          "annotationdefaults": {
           "arrowcolor": "#2a3f5f",
           "arrowhead": 0,
           "arrowwidth": 1
          },
          "autotypenumbers": "strict",
          "coloraxis": {
           "colorbar": {
            "outlinewidth": 0,
            "ticks": ""
           }
          },
          "colorscale": {
           "diverging": [
            [
             0,
             "#8e0152"
            ],
            [
             0.1,
             "#c51b7d"
            ],
            [
             0.2,
             "#de77ae"
            ],
            [
             0.3,
             "#f1b6da"
            ],
            [
             0.4,
             "#fde0ef"
            ],
            [
             0.5,
             "#f7f7f7"
            ],
            [
             0.6,
             "#e6f5d0"
            ],
            [
             0.7,
             "#b8e186"
            ],
            [
             0.8,
             "#7fbc41"
            ],
            [
             0.9,
             "#4d9221"
            ],
            [
             1,
             "#276419"
            ]
           ],
           "sequential": [
            [
             0,
             "#0d0887"
            ],
            [
             0.1111111111111111,
             "#46039f"
            ],
            [
             0.2222222222222222,
             "#7201a8"
            ],
            [
             0.3333333333333333,
             "#9c179e"
            ],
            [
             0.4444444444444444,
             "#bd3786"
            ],
            [
             0.5555555555555556,
             "#d8576b"
            ],
            [
             0.6666666666666666,
             "#ed7953"
            ],
            [
             0.7777777777777778,
             "#fb9f3a"
            ],
            [
             0.8888888888888888,
             "#fdca26"
            ],
            [
             1,
             "#f0f921"
            ]
           ],
           "sequentialminus": [
            [
             0,
             "#0d0887"
            ],
            [
             0.1111111111111111,
             "#46039f"
            ],
            [
             0.2222222222222222,
             "#7201a8"
            ],
            [
             0.3333333333333333,
             "#9c179e"
            ],
            [
             0.4444444444444444,
             "#bd3786"
            ],
            [
             0.5555555555555556,
             "#d8576b"
            ],
            [
             0.6666666666666666,
             "#ed7953"
            ],
            [
             0.7777777777777778,
             "#fb9f3a"
            ],
            [
             0.8888888888888888,
             "#fdca26"
            ],
            [
             1,
             "#f0f921"
            ]
           ]
          },
          "colorway": [
           "#636efa",
           "#EF553B",
           "#00cc96",
           "#ab63fa",
           "#FFA15A",
           "#19d3f3",
           "#FF6692",
           "#B6E880",
           "#FF97FF",
           "#FECB52"
          ],
          "font": {
           "color": "#2a3f5f"
          },
          "geo": {
           "bgcolor": "white",
           "lakecolor": "white",
           "landcolor": "#E5ECF6",
           "showlakes": true,
           "showland": true,
           "subunitcolor": "white"
          },
          "hoverlabel": {
           "align": "left"
          },
          "hovermode": "closest",
          "mapbox": {
           "style": "light"
          },
          "paper_bgcolor": "white",
          "plot_bgcolor": "#E5ECF6",
          "polar": {
           "angularaxis": {
            "gridcolor": "white",
            "linecolor": "white",
            "ticks": ""
           },
           "bgcolor": "#E5ECF6",
           "radialaxis": {
            "gridcolor": "white",
            "linecolor": "white",
            "ticks": ""
           }
          },
          "scene": {
           "xaxis": {
            "backgroundcolor": "#E5ECF6",
            "gridcolor": "white",
            "gridwidth": 2,
            "linecolor": "white",
            "showbackground": true,
            "ticks": "",
            "zerolinecolor": "white"
           },
           "yaxis": {
            "backgroundcolor": "#E5ECF6",
            "gridcolor": "white",
            "gridwidth": 2,
            "linecolor": "white",
            "showbackground": true,
            "ticks": "",
            "zerolinecolor": "white"
           },
           "zaxis": {
            "backgroundcolor": "#E5ECF6",
            "gridcolor": "white",
            "gridwidth": 2,
            "linecolor": "white",
            "showbackground": true,
            "ticks": "",
            "zerolinecolor": "white"
           }
          },
          "shapedefaults": {
           "line": {
            "color": "#2a3f5f"
           }
          },
          "ternary": {
           "aaxis": {
            "gridcolor": "white",
            "linecolor": "white",
            "ticks": ""
           },
           "baxis": {
            "gridcolor": "white",
            "linecolor": "white",
            "ticks": ""
           },
           "bgcolor": "#E5ECF6",
           "caxis": {
            "gridcolor": "white",
            "linecolor": "white",
            "ticks": ""
           }
          },
          "title": {
           "x": 0.05
          },
          "xaxis": {
           "automargin": true,
           "gridcolor": "white",
           "linecolor": "white",
           "ticks": "",
           "title": {
            "standoff": 15
           },
           "zerolinecolor": "white",
           "zerolinewidth": 2
          },
          "yaxis": {
           "automargin": true,
           "gridcolor": "white",
           "linecolor": "white",
           "ticks": "",
           "title": {
            "standoff": 15
           },
           "zerolinecolor": "white",
           "zerolinewidth": 2
          }
         }
        },
        "title": {
         "text": "Correlation Matrix Heatmap of Numerical Features"
        },
        "xaxis": {
         "anchor": "y",
         "constrain": "domain",
         "domain": [
          0,
          1
         ],
         "scaleanchor": "y"
        },
        "yaxis": {
         "anchor": "x",
         "autorange": "reversed",
         "constrain": "domain",
         "domain": [
          0,
          1
         ]
        }
       }
      }
     },
     "metadata": {},
     "output_type": "display_data"
    }
   ],
   "source": [
    "import pandas as pd\n",
    "import plotly.express as px\n",
    "\n",
    "# Load the dataset\n",
    "df = pd.read_csv(\"train.csv\")\n",
    "\n",
    "# Drop non-numeric columns\n",
    "numeric_df = df.drop(columns=['id', 'Sex'])  # 'Sex' is categorical\n",
    "\n",
    "# Compute the correlation matrix\n",
    "correlation_matrix = numeric_df.corr()\n",
    "\n",
    "# Generate a heatmap using Plotly\n",
    "fig = px.imshow(correlation_matrix,\n",
    "                text_auto=True,\n",
    "                color_continuous_scale='RdBu',\n",
    "                title='Correlation Matrix Heatmap of Numerical Features')\n",
    "\n",
    "# Show the plot\n",
    "fig.show()\n"
   ]
  },
  {
   "cell_type": "code",
   "execution_count": 36,
   "id": "eb7ef627-9f70-4a28-8f36-7c72256e65f5",
   "metadata": {},
   "outputs": [
    {
     "name": "stdout",
     "output_type": "stream",
     "text": [
      "Defaulting to user installation because normal site-packages is not writeable\n",
      "Collecting plotly\n",
      "  Downloading plotly-6.2.0-py3-none-any.whl.metadata (8.5 kB)\n",
      "Requirement already satisfied: narwhals>=1.15.1 in c:\\users\\anujb\\appdata\\roaming\\python\\python313\\site-packages (from plotly) (1.48.1)\n",
      "Requirement already satisfied: packaging in c:\\users\\anujb\\appdata\\roaming\\python\\python313\\site-packages (from plotly) (25.0)\n",
      "Downloading plotly-6.2.0-py3-none-any.whl (9.6 MB)\n",
      "   ---------------------------------------- 0.0/9.6 MB ? eta -:--:--\n",
      "   ---------------------------------------- 9.6/9.6 MB 64.5 MB/s eta 0:00:00\n",
      "Installing collected packages: plotly\n",
      "Successfully installed plotly-6.2.0\n"
     ]
    },
    {
     "name": "stderr",
     "output_type": "stream",
     "text": [
      "\n",
      "[notice] A new release of pip is available: 25.1.1 -> 25.2\n",
      "[notice] To update, run: python.exe -m pip install --upgrade pip\n"
     ]
    }
   ],
   "source": [
    "!pip install plotly\n"
   ]
  }
 ],
 "metadata": {
  "kernelspec": {
   "display_name": "Python 3",
   "language": "python",
   "name": "python3"
  },
  "language_info": {
   "codemirror_mode": {
    "name": "ipython",
    "version": 3
   },
   "file_extension": ".py",
   "mimetype": "text/x-python",
   "name": "python",
   "nbconvert_exporter": "python",
   "pygments_lexer": "ipython3",
   "version": "3.13.5"
  }
 },
 "nbformat": 4,
 "nbformat_minor": 5
}
